{
  "cells": [
    {
      "cell_type": "markdown",
      "metadata": {
        "id": "aefa4336"
      },
      "source": [
        "# Vocabulary size 변경해서 시도\n",
        "#### 머신러닝을 이용한 텍스트 분류\n",
        "#### 텍스트 분류(Text Classification)\n",
        "주어진 텍스트를 사전 정의된 클래스(Pre-defined Class)들로 분류하는 자연어 처리 태스크"
      ],
      "id": "aefa4336"
    },
    {
      "cell_type": "markdown",
      "metadata": {
        "id": "308fe1fe"
      },
      "source": [
        "## 데이터 확인 및 복원"
      ],
      "id": "308fe1fe"
    },
    {
      "cell_type": "code",
      "execution_count": 1,
      "metadata": {
        "id": "25eb61db"
      },
      "outputs": [],
      "source": [
        "from tensorflow.keras.datasets import reuters\n",
        "import matplotlib.pyplot as plt\n",
        "import seaborn as sns\n",
        "import numpy as np\n",
        "import pandas as pd"
      ],
      "id": "25eb61db"
    },
    {
      "cell_type": "markdown",
      "metadata": {
        "id": "2c75175c"
      },
      "source": [
        "### 훈련 데이터와 테스트 데이터 로드"
      ],
      "id": "2c75175c"
    },
    {
      "cell_type": "code",
      "execution_count": 2,
      "metadata": {
        "id": "9dabaa0a"
      },
      "outputs": [],
      "source": [
        "(x_train, y_train), (x_test, y_test) = reuters.load_data(num_words=None, test_split=0.2)"
      ],
      "id": "9dabaa0a"
    },
    {
      "cell_type": "markdown",
      "metadata": {
        "id": "f3b8a8db"
      },
      "source": [
        "- num_words\n",
        "이 데이터에서 빈도수 기준으로 상위 몇 번째 단어까지 사용할 것인지 조절\n",
        "- test_spilt = 0.2\n",
        "전체 데이터 중에서 80%를 훈련 데이터, 20%를 테스트 데이터로 사용한다는 의미"
      ],
      "id": "f3b8a8db"
    },
    {
      "cell_type": "code",
      "execution_count": 3,
      "metadata": {
        "colab": {
          "base_uri": "https://localhost:8080/"
        },
        "id": "e375b622",
        "outputId": "a5a9dde8-5f00-4152-b420-8f1fb2a31502"
      },
      "outputs": [
        {
          "output_type": "stream",
          "name": "stdout",
          "text": [
            "훈련 샘플의 수: 8982\n",
            "테스트 샘플의 수: 2246\n"
          ]
        }
      ],
      "source": [
        "print('훈련 샘플의 수: {}'.format(len(x_train)))\n",
        "print('테스트 샘플의 수: {}'.format(len(x_test)))"
      ],
      "id": "e375b622"
    },
    {
      "cell_type": "markdown",
      "metadata": {
        "id": "75395ae5"
      },
      "source": [
        "### 데이터 출력"
      ],
      "id": "75395ae5"
    },
    {
      "cell_type": "code",
      "execution_count": 4,
      "metadata": {
        "colab": {
          "base_uri": "https://localhost:8080/"
        },
        "id": "f53c5417",
        "outputId": "10763ea0-9324-479f-af7c-aa788312530f"
      },
      "outputs": [
        {
          "output_type": "stream",
          "name": "stdout",
          "text": [
            "[1, 27595, 28842, 8, 43, 10, 447, 5, 25, 207, 270, 5, 3095, 111, 16, 369, 186, 90, 67, 7, 89, 5, 19, 102, 6, 19, 124, 15, 90, 67, 84, 22, 482, 26, 7, 48, 4, 49, 8, 864, 39, 209, 154, 6, 151, 6, 83, 11, 15, 22, 155, 11, 15, 7, 48, 9, 4579, 1005, 504, 6, 258, 6, 272, 11, 15, 22, 134, 44, 11, 15, 16, 8, 197, 1245, 90, 67, 52, 29, 209, 30, 32, 132, 6, 109, 15, 17, 12]\n",
            "[1, 4, 1378, 2025, 9, 697, 4622, 111, 8, 25, 109, 29, 3650, 11, 150, 244, 364, 33, 30, 30, 1398, 333, 6, 18292, 159, 9, 1084, 363, 13, 19231, 71, 9, 16273, 71, 117, 4, 225, 78, 206, 10, 9, 1214, 8, 4, 270, 5, 16273, 7, 748, 48, 9, 19231, 7, 207, 1451, 966, 1864, 793, 97, 133, 336, 7, 4, 493, 98, 273, 104, 284, 25, 39, 338, 22, 905, 220, 3465, 644, 59, 20, 6, 119, 61, 11, 15, 58, 579, 26, 10, 67, 7, 4, 738, 98, 43, 88, 333, 722, 12, 20, 6, 19, 746, 35, 15, 10, 9, 1214, 855, 129, 783, 21, 4, 2280, 244, 364, 51, 16, 299, 452, 16, 515, 4, 99, 29, 5, 4, 364, 281, 48, 10, 9, 1214, 23, 644, 47, 20, 324, 27, 56, 23406, 28185, 5, 192, 510, 17, 12]\n"
          ]
        }
      ],
      "source": [
        "print(x_train[0])\n",
        "print(x_test[0])"
      ],
      "id": "f53c5417"
    },
    {
      "cell_type": "code",
      "execution_count": 5,
      "metadata": {
        "colab": {
          "base_uri": "https://localhost:8080/"
        },
        "id": "09cf7bff",
        "outputId": "37c96620-30db-418c-d00d-8acd68655bb1"
      },
      "outputs": [
        {
          "output_type": "stream",
          "name": "stdout",
          "text": [
            "3\n",
            "3\n"
          ]
        }
      ],
      "source": [
        "print(y_train[0])\n",
        "print(y_test[0])"
      ],
      "id": "09cf7bff"
    },
    {
      "cell_type": "code",
      "execution_count": 6,
      "metadata": {
        "colab": {
          "base_uri": "https://localhost:8080/"
        },
        "id": "c1aa2423",
        "outputId": "60e1ccdd-e222-48ae-b5b6-42978ef40661"
      },
      "outputs": [
        {
          "output_type": "stream",
          "name": "stdout",
          "text": [
            "클래스의 수 : 46\n"
          ]
        }
      ],
      "source": [
        "num_classes = max(y_train) + 1\n",
        "print('클래스의 수 : {}'.format(num_classes))"
      ],
      "id": "c1aa2423"
    },
    {
      "cell_type": "markdown",
      "metadata": {
        "id": "39434753"
      },
      "source": [
        "### 데이터 분포 확인"
      ],
      "id": "39434753"
    },
    {
      "cell_type": "code",
      "execution_count": 7,
      "metadata": {
        "colab": {
          "base_uri": "https://localhost:8080/",
          "height": 316
        },
        "id": "d694b9ba",
        "outputId": "3c0ac072-a2e4-4eb9-cc4b-69ddcbee0887"
      },
      "outputs": [
        {
          "output_type": "stream",
          "name": "stdout",
          "text": [
            "훈련용 뉴스의 최대 길이 :2376\n",
            "훈련용 뉴스의 평균 길이 :145.5398574927633\n"
          ]
        },
        {
          "output_type": "display_data",
          "data": {
            "text/plain": [
              "<Figure size 432x288 with 1 Axes>"
            ],
            "image/png": "[encoded data removed]"
          },
          "metadata": {
            "needs_background": "light"
          }
        }
      ],
      "source": [
        "print('훈련용 뉴스의 최대 길이 :{}'.format(max(len(l) for l in x_train)))\n",
        "print('훈련용 뉴스의 평균 길이 :{}'.format(sum(map(len, x_train))/len(x_train)))\n",
        "\n",
        "plt.hist([len(s) for s in x_train], bins=50)\n",
        "plt.xlabel('length of samples')\n",
        "plt.ylabel('number of samples')\n",
        "plt.show()"
      ],
      "id": "d694b9ba"
    },
    {
      "cell_type": "code",
      "execution_count": 8,
      "metadata": {
        "colab": {
          "base_uri": "https://localhost:8080/",
          "height": 320
        },
        "id": "9ca1ff40",
        "outputId": "ecdf09c1-cd01-42f9-9b06-c661e7a06e5b"
      },
      "outputs": [
        {
          "output_type": "display_data",
          "data": {
            "text/plain": [
              "<Figure size 792x360 with 1 Axes>"
            ],
            "image/png": "[encoded data removed]"
          },
          "metadata": {
            "needs_background": "light"
          }
        }
      ],
      "source": [
        "fig, axe = plt.subplots(ncols=1)\n",
        "fig.set_size_inches(11,5)\n",
        "sns.countplot(x=y_train)\n",
        "plt.show()"
      ],
      "id": "9ca1ff40"
    },
    {
      "cell_type": "code",
      "execution_count": 9,
      "metadata": {
        "colab": {
          "base_uri": "https://localhost:8080/"
        },
        "id": "69052be5",
        "outputId": "1087fffe-37df-4210-89eb-4f81650f6771"
      },
      "outputs": [
        {
          "output_type": "stream",
          "name": "stdout",
          "text": [
            "각 클래스 빈도수:\n",
            "[[   0    1    2    3    4    5    6    7    8    9   10   11   12   13\n",
            "    14   15   16   17   18   19   20   21   22   23   24   25   26   27\n",
            "    28   29   30   31   32   33   34   35   36   37   38   39   40   41\n",
            "    42   43   44   45]\n",
            " [  55  432   74 3159 1949   17   48   16  139  101  124  390   49  172\n",
            "    26   20  444   39   66  549  269  100   15   41   62   92   24   15\n",
            "    48   19   45   39   32   11   50   10   49   19   19   24   36   30\n",
            "    13   21   12   18]]\n"
          ]
        }
      ],
      "source": [
        "unique_elements, counts_elements = np.unique(y_train, return_counts=True)\n",
        "print(\"각 클래스 빈도수:\")\n",
        "print(np.asarray((unique_elements, counts_elements)))"
      ],
      "id": "69052be5"
    },
    {
      "cell_type": "markdown",
      "metadata": {
        "id": "9941b46f"
      },
      "source": [
        "### 원본 뉴스 데이터로 복원\n",
        "정수 시퀀스로 변환된 데이터를 다시 텍스트로"
      ],
      "id": "9941b46f"
    },
    {
      "cell_type": "code",
      "execution_count": 10,
      "metadata": {
        "colab": {
          "base_uri": "https://localhost:8080/"
        },
        "id": "f0f4482a",
        "outputId": "0683d48d-ac6d-49c4-ff21-97c4abba1d6b"
      },
      "outputs": [
        {
          "output_type": "stream",
          "name": "stdout",
          "text": [
            "=3\n"
          ]
        }
      ],
      "source": [
        "word_index = reuters.get_word_index(path=\"reuters_word_index.json\")\n",
        "print('=3')"
      ],
      "id": "f0f4482a"
    },
    {
      "cell_type": "code",
      "execution_count": 11,
      "metadata": {
        "colab": {
          "base_uri": "https://localhost:8080/"
        },
        "id": "42cf5e2c",
        "outputId": "afcfbf17-176b-4006-cf0b-b89f31397fa3"
      },
      "outputs": [
        {
          "output_type": "execute_result",
          "data": {
            "text/plain": [
              "1"
            ]
          },
          "metadata": {},
          "execution_count": 11
        }
      ],
      "source": [
        "word_index['the']"
      ],
      "id": "42cf5e2c"
    },
    {
      "cell_type": "markdown",
      "metadata": {
        "id": "2537de26"
      },
      "source": [
        "word_index 안에 단어를 입력하면 이 단어가 어떤 정수와 맵핑이 되는지를 알 수 있다\n",
        "\n",
        "뉴스 데이터 안에서 단어 'the'는 사실 1번이 아니라 4번 단어\n",
        "\n",
        "word_index에 입력으로 했을 때, 얻는 숫자보다는 +3을 한 숫자가 원래 고유한 숫자"
      ],
      "id": "2537de26"
    },
    {
      "cell_type": "markdown",
      "metadata": {
        "id": "9a4aa699"
      },
      "source": [
        "reuters.get_word_index에는 실제 단어에 맵핑 한 정수에 -3을 한 정수를 입력해 놓음\n",
        "\n",
        "그렇기 때문에 word_index에서 index_word를 만들 때, 각 정수에 +3을 해야함"
      ],
      "id": "9a4aa699"
    },
    {
      "cell_type": "code",
      "execution_count": 12,
      "metadata": {
        "id": "05344656"
      },
      "outputs": [],
      "source": [
        "index_to_word = { index+3 : word for word, index in word_index.items() }"
      ],
      "id": "05344656"
    },
    {
      "cell_type": "code",
      "execution_count": 13,
      "metadata": {
        "colab": {
          "base_uri": "https://localhost:8080/"
        },
        "id": "62463ec1",
        "outputId": "00a190e9-91c9-4b7f-bbf0-4b8d0192131c"
      },
      "outputs": [
        {
          "output_type": "stream",
          "name": "stdout",
          "text": [
            "the\n",
            "it\n"
          ]
        }
      ],
      "source": [
        "print(index_to_word[4])\n",
        "print(index_to_word[16])"
      ],
      "id": "62463ec1"
    },
    {
      "cell_type": "markdown",
      "metadata": {
        "id": "9b74f83c"
      },
      "source": [
        "0번, 1번, 2번은 사실 각각 <pad>, <sos>, <unk>라는 자연어 처리를 위한 특별한 토큰들을 위해 맵핑된 번호\n",
        "    \n",
        "index_to_word에 추가적으로 이 작업을 해주어야 진짜 index_to_word가 완성"
      ],
      "id": "9b74f83c"
    },
    {
      "cell_type": "code",
      "execution_count": 14,
      "metadata": {
        "id": "aa39530f"
      },
      "outputs": [],
      "source": [
        "# index_to_word에 숫자 0은 <pad>, 숫자 1은 <sos>, 숫자 2는 <unk>를 넣어줍니다.\n",
        "for index, token in enumerate((\"<pad>\", \"<sos>\", \"<unk>\")):\n",
        "  index_to_word[index]=token"
      ],
      "id": "aa39530f"
    },
    {
      "cell_type": "code",
      "execution_count": 15,
      "metadata": {
        "colab": {
          "base_uri": "https://localhost:8080/"
        },
        "id": "dc467177",
        "outputId": "e5ae0a63-4325-4f1b-8b8a-d4ad31a39bbd"
      },
      "outputs": [
        {
          "output_type": "stream",
          "name": "stdout",
          "text": [
            "<sos> mcgrath rentcorp said as a result of its december acquisition of space co it expects earnings per share in 1987 of 1 15 to 1 30 dlrs per share up from 70 cts in 1986 the company said pretax net should rise to nine to 10 mln dlrs from six mln dlrs in 1986 and rental operation revenues to 19 to 22 mln dlrs from 12 5 mln dlrs it said cash flow per share this year should be 2 50 to three dlrs reuter 3\n"
          ]
        }
      ],
      "source": [
        "print(' '.join([index_to_word[index] for index in x_train[0]]))"
      ],
      "id": "dc467177"
    },
    {
      "cell_type": "markdown",
      "metadata": {
        "id": "f3a255f5"
      },
      "source": [
        "### OOV(Out-Of-Vocabulary) 문제와 UNK(Unknown) 토큰\n",
        "기계가 미처 배우지 못한 모르는 단어"
      ],
      "id": "f3a255f5"
    },
    {
      "cell_type": "markdown",
      "metadata": {
        "id": "ac05d1de"
      },
      "source": [
        "전체 훈련용 뉴스 데이터와 전체 테스트용 뉴스 데이터를 텍스트 데이터로 변환"
      ],
      "id": "ac05d1de"
    },
    {
      "cell_type": "code",
      "execution_count": 16,
      "metadata": {
        "colab": {
          "base_uri": "https://localhost:8080/"
        },
        "id": "f6088335",
        "outputId": "216a5dfe-5017-4def-ad3a-a881a92b130c"
      },
      "outputs": [
        {
          "output_type": "stream",
          "name": "stdout",
          "text": [
            "8982\n"
          ]
        }
      ],
      "source": [
        "decoded = []\n",
        "for i in range(len(x_train)):\n",
        "    t = ' '.join([index_to_word[index] for index in x_train[i]])\n",
        "    decoded.append(t)\n",
        "\n",
        "x_train = decoded\n",
        "print(len(x_train))"
      ],
      "id": "f6088335"
    },
    {
      "cell_type": "code",
      "execution_count": 17,
      "metadata": {
        "colab": {
          "base_uri": "https://localhost:8080/"
        },
        "id": "e2e7c3ac",
        "outputId": "aceb5e17-3dbf-41f5-e264-da152b4581cf"
      },
      "outputs": [
        {
          "output_type": "stream",
          "name": "stdout",
          "text": [
            "2246\n"
          ]
        }
      ],
      "source": [
        "decoded = []\n",
        "for i in range(len(x_test)):\n",
        "    t = ' '.join([index_to_word[index] for index in x_test[i]])\n",
        "    decoded.append(t)\n",
        "\n",
        "x_test = decoded\n",
        "print(len(x_test))"
      ],
      "id": "e2e7c3ac"
    },
    {
      "cell_type": "markdown",
      "metadata": {
        "id": "877d2ee9"
      },
      "source": [
        "제대로 변환이 되었는지 확인"
      ],
      "id": "877d2ee9"
    },
    {
      "cell_type": "code",
      "execution_count": 18,
      "metadata": {
        "colab": {
          "base_uri": "https://localhost:8080/"
        },
        "id": "8c8ded37",
        "outputId": "6b636a35-904e-45b1-c3a6-91fe4fc565e3"
      },
      "outputs": [
        {
          "output_type": "execute_result",
          "data": {
            "text/plain": [
              "['<sos> mcgrath rentcorp said as a result of its december acquisition of space co it expects earnings per share in 1987 of 1 15 to 1 30 dlrs per share up from 70 cts in 1986 the company said pretax net should rise to nine to 10 mln dlrs from six mln dlrs in 1986 and rental operation revenues to 19 to 22 mln dlrs from 12 5 mln dlrs it said cash flow per share this year should be 2 50 to three dlrs reuter 3',\n",
              " \"<sos> generale de banque sa lt genb br and lt heller overseas corp of chicago have each taken 50 pct stakes in factoring company sa belgo factors generale de banque said in a statement it gave no financial details of the transaction sa belgo factors' turnover in 1986 was 17 5 billion belgian francs reuter 3\",\n",
              " '<sos> shr 3 28 dlrs vs 22 cts shr diluted 2 99 dlrs vs 22 cts net 46 0 mln vs 3 328 000 avg shrs 14 0 mln vs 15 2 mln year shr 5 41 dlrs vs 1 56 dlrs shr diluted 4 94 dlrs vs 1 50 dlrs net 78 2 mln vs 25 9 mln avg shrs 14 5 mln vs 15 1 mln note earnings per share reflect the two for one split effective january 6 1987 per share amounts are calculated after preferred stock dividends loss continuing operations for the qtr 1986 includes gains of sale of investments in enron corp of 14 mln dlrs and associated companies of 4 189 000 less writedowns of investments in national intergroup inc of 11 8 mln and brae corp of 15 6 mln reuter 3',\n",
              " \"<sos> the farmers home administration the u s agriculture department's farm lending arm could lose about seven billion dlrs in outstanding principal on its severely delinquent borrowers or about one fourth of its farm loan portfolio the general accounting office gao said in remarks prepared for delivery to the senate agriculture committee brian crowley senior associate director of gao also said that a preliminary analysis of proposed changes in fmha's financial eligibility standards indicated as many as one half of fmha borrowers who received new loans from the agency in 1986 would be ineligible under the proposed system the agency has proposed evaluating applicants' credit using a variety of financial ratios instead of relying solely on cashflow ability senate agriculture committee chairman patrick leahy d vt slammed the proposed eligibility changes telling fmha administrator vance clark at a hearing that they would mark a dramatic shift in the agency's purpose away from being farmers' lender of last resort toward becoming a big city bank but clark defended the new regulations saying the agency had a responsibility to administer its 70 billion dlr loan portfolio in a compassionate yet judicious manner crowley of gao congress' investigative arm said the proposed credit scoring system attempted to ensure that fmha would make loans only to borrowers who had a reasonable change of repaying their debt reuter 3\",\n",
              " '<sos> seton co said its board has received a proposal from chairman and chief executive officer philip d kaltenbacher to acquire seton for 15 75 dlrs per share in cash seton said the acquisition bid is subject to kaltenbacher arranging the necessary financing it said he intends to ask other members of senior management to participate the company said kaltenbacher owns 30 pct of seton stock and other management members another 7 5 pct seton said it has formed an independent board committee to consider the offer and has deferred the annual meeting it had scheduled for march 31 reuter 3']"
            ]
          },
          "metadata": {},
          "execution_count": 18
        }
      ],
      "source": [
        "x_train[:5]"
      ],
      "id": "8c8ded37"
    },
    {
      "cell_type": "code",
      "execution_count": 19,
      "metadata": {
        "colab": {
          "base_uri": "https://localhost:8080/"
        },
        "id": "a789ed86",
        "outputId": "e10f6ccf-1b46-4601-e464-81dd63d4dc06"
      },
      "outputs": [
        {
          "output_type": "execute_result",
          "data": {
            "text/plain": [
              "['<sos> the great atlantic and pacific tea co said its three year 345 mln dlr capital program will be be substantially increased to accommodate growth and expansion plans for waldbaum inc and shopwell inc over the next two years a and p said the acquisition of shopwell in august 1986 and waldbaum in december helped us achieve better than expected results in the fourth quarter ended february 28 its net income from continuing operations jumped 52 6 pct to 20 7 mln dlrs or 55 cts a share in the latest quarter as sales increased 48 3 pct to 1 58 billion dlrs a and p gave no details on the expanded capital program but it did say it completed the first year of the program during 1986 a and p is 52 4 pct owned by lt tengelmann warenhandelsgesellschaft of west germany reuter 3',\n",
              " \"<sos> philippine sugar production in the 1987 88 crop year ending august has been set at 1 6 mln tonnes up from a provisional 1 3 mln tonnes this year sugar regulatory administration sra chairman arsenio yulo said yulo told reuters a survey during the current milling season which ends next month showed the 1986 87 estimate would almost certainly be met he said at least 1 2 mln tonnes of the 1987 88 crop would be earmarked for domestic consumption yulo said about 130 000 tonnes would be set aside for the u s sugar quota 150 000 tonnes for strategic reserves and 50 000 tonnes would be sold on the world market he said if the government approved a long standing sra recommendation to manufacture ethanol the project would take up another 150 000 tonnes slightly raising the target the government for its own reasons has been delaying approval of the project but we expect it to come through by july yulo said ethanol could make up five pct of gasoline cutting the oil import bill by about 300 mln pesos yulo said three major philippine distilleries were ready to start manufacturing ethanol if the project was approved the ethanol project would result in employment for about 100 000 people sharply reducing those thrown out of work by depressed world sugar prices and a moribund domestic industry production quotas set for the first time in 1987 88 had been submitted to president corazon aquino i think the president would rather wait till the new congress convenes after the may elections he said but there is really no need for such quotas we are right now producing just slightly over our own consumption level the producers have never enjoyed such high prices yulo said adding sugar was currently selling locally for 320 pesos per picul up from 190 pesos last august yulo said prices were driven up because of speculation following the sra's bid to control production we are no longer concerned so much with the world market he said adding producers in the negros region had learned from their mistakes and diversified into corn and prawn farming and cloth production he said diversification into products other than ethanol was also possible within the sugar industry the brazilians long ago learnt their lessons yulo said they have 300 sugar mills compared with our 41 but they relocated many of them and diversified production we want to call this a 'sugarcane industry' instead of the sugar industry he said sugarcane could be fed to pigs and livestock used for thatching roofs or used in room panelling when you cut sugarcane you don't even have to produce sugar he said yulo said the philippines was lobbying for a renewal of the international sugar agreement which expired in 1984 as a major sugar producer we are urging them to write a new agreement which would revive world prices yulo said if there is no agreement world prices will always be depressed particularly because the european community is subsidising its producers and dumping sugar on the markets he said current world prices holding steady at about 7 60 cents per pound were uneconomical for the philippines where production costs ranged from 12 to 14 cents a pound if the price holds steady for a while at 7 60 cents i expect the level to rise to about 11 cents a pound by the end of this year he said yulo said economists forecast a bullish sugar market by 1990 with world consumption outstripping production he said sugar markets were holding up despite encroachments from artificial sweeteners and high fructose corn syrup but we are not happy with the reagan administration he said since 1935 we have been regular suppliers of sugar to the u s in 1982 when they restored the quota system they cut ours in half without any justification manila was keenly watching washington's moves to cut domestic support prices to 12 cents a pound from 18 cents the u s agriculture department last december slashed its 12 month 1987 sugar import quota from the philippines to 143 780 short tons from 231 660 short tons in 1986 yulo said despite next year's increased production target some philippine mills were expected to shut down at least four of the 41 mills were not working during the 1986 87 season he said we expect two or three more to follow suit during the next season reuter 3\",\n",
              " \"<sos> the agriculture department's widening of louisiana gulf differentials will affect county posted prices for number two yellow corn in ten states a usda official said all counties in iowa will be affected as will counties which use the gulf to price corn in illinois indiana tennessee kentucky missouri mississippi arkansas alabama and louisiana said ron burgess deputy director of commodity operations division for the usda usda last night notified the grain industry that effective immediately all gulf differentials used to price interior corn would be widened on a sliding scale basis of four to eight cts depending on what the differential is usda's action was taken to lower excessively high posted county prices for corn caused by high gulf prices we've been following this louisiana gulf situation for a month and we don't think it's going to get back in line in any nearby time burgess said burgess said usda will probably narrow back the gulf differentials when and if gulf prices recede if we're off the mark now because we're too high wouldn't we be as much off the mark if we're too low he said while forecasting more adjustments if gulf prices fall burgess said no other changes in usda's price system are being planned right now we don't tinker we don't make changes lightly and we don't make changes often he said reuter 3\",\n",
              " '<sos> graham mccormick oil and gas partnership said it completed the sale of interests in two major oil and gas fields to lt energy assets international corp for 21 mln dlrs the company said it sold about one half of its 50 pct interest in the oak hill and north rucias fields its two largest producing properties it said it used about 20 mln dlrs of the proceeds to prepay principal on its senior secured notes semi annual principal payments on the remaining 40 mln dlrs of notes have been satisfied until december 1988 as a result it said the company said the note agreements were amended to reflect an easing of some financial covenants and an increase of interest to 13 5 pct from 13 0 pct until december 1990 it said the noteholders exercise price for 1 125 000 warrants was also reduced to 50 cts from 1 50 dlrs the company said energy assets agreed to share the costs of increasing production at the oak hill field reuter 3',\n",
              " '<sos> strong south easterly winds were keeping many vessels trapped in the ice off the finnish and swedish coasts in one of the worst icy periods in the baltic for many years the finnish board of navigation said in finland and sweden up to 50 vessels were reported to be stuck in the ice and even the largest of the assisting icebreakers were having difficulties in breaking through to the stranded ships coastguard officials said however icy conditions in the southern baltic at the soviet oil ports of ventspils and klaipeda had eased they said weather officials in neighbouring sweden said the icy conditions in the baltic were the worst for 30 years with ships fighting a losing battle to keep moving in the coastal stretches of the gulf of bothnia which divides finland and sweden the ice is up to one metre thick with drifts and currents packing it into almost impenetrable walls three metres high swedish coastguard officials said weather forecasts say winds may ease during the weekend but a further drop in temperature could bring shipping to a standstill the officials said reuter 3']"
            ]
          },
          "metadata": {},
          "execution_count": 19
        }
      ],
      "source": [
        "x_test[:5]"
      ],
      "id": "a789ed86"
    },
    {
      "cell_type": "markdown",
      "metadata": {
        "id": "38081744"
      },
      "source": [
        "## 벡터화 하기"
      ],
      "id": "38081744"
    },
    {
      "cell_type": "code",
      "execution_count": 20,
      "metadata": {
        "id": "2338bc0e"
      },
      "outputs": [],
      "source": [
        "from sklearn.feature_extraction.text import CountVectorizer\n",
        "from sklearn.feature_extraction.text import TfidfTransformer"
      ],
      "id": "2338bc0e"
    },
    {
      "cell_type": "markdown",
      "metadata": {
        "id": "a53ee4b6"
      },
      "source": [
        "DTM은 사이킷런의 CountVectorizer()를 통해서 생성할 수 있"
      ],
      "id": "a53ee4b6"
    },
    {
      "cell_type": "code",
      "execution_count": 21,
      "metadata": {
        "colab": {
          "base_uri": "https://localhost:8080/"
        },
        "id": "b9b1f20c",
        "outputId": "2859a61f-0720-45a4-9b81-34b79e2e2448"
      },
      "outputs": [
        {
          "output_type": "stream",
          "name": "stdout",
          "text": [
            "(8982, 26506)\n"
          ]
        }
      ],
      "source": [
        "dtmvector = CountVectorizer()\n",
        "x_train_dtm = dtmvector.fit_transform(x_train)\n",
        "print(x_train_dtm.shape)"
      ],
      "id": "b9b1f20c"
    },
    {
      "cell_type": "markdown",
      "metadata": {
        "id": "19f3d1f5"
      },
      "source": [
        "TF-IDF Matrix는 추가적인 전처리를 하지 않는 이상, DTM과 동일한 크기를 가집"
      ],
      "id": "19f3d1f5"
    },
    {
      "cell_type": "code",
      "execution_count": 22,
      "metadata": {
        "colab": {
          "base_uri": "https://localhost:8080/"
        },
        "id": "230570f4",
        "outputId": "814841cc-ac12-44a1-c5b1-d65aef2c2b9a"
      },
      "outputs": [
        {
          "output_type": "stream",
          "name": "stdout",
          "text": [
            "(8982, 26506)\n"
          ]
        }
      ],
      "source": [
        "tfidf_transformer = TfidfTransformer()\n",
        "tfidfv = tfidf_transformer.fit_transform(x_train_dtm)\n",
        "print(tfidfv.shape)"
      ],
      "id": "230570f4"
    },
    {
      "cell_type": "code",
      "execution_count": 23,
      "metadata": {
        "id": "9f48d456"
      },
      "outputs": [],
      "source": [
        "# 정확도 측정을 위해 테스트 데이터 전처리 필요, 이에 테스트 데이터 TF-IDF  행렬로 변환 필요\n",
        "\n",
        "x_test_dtm = dtmvector.transform(x_test) #테스트 데이터를 DTM으로 변환\n",
        "tfidfv_test = tfidf_transformer.transform(x_test_dtm) #DTM을 TF-IDF 행렬로 변환"
      ],
      "id": "9f48d456"
    },
    {
      "cell_type": "markdown",
      "metadata": {
        "id": "83cec04a"
      },
      "source": [
        "## 나이브 베이즈 분류기\n",
        "나이브 베이즈 분류기는 사이킷런의 MultinomialNB()를 통해 사용할 수 있다\n",
        "\n",
        "사이킷런이 제공하는 머신러닝 모델들은 공통적으로 fit()이라는 함수를 제공\n",
        "\n",
        "훈련 데이터와 해당 훈련 데이터에 대한 레이블을 인자로 사용하면 모델이 이를 학습"
      ],
      "id": "83cec04a"
    },
    {
      "cell_type": "code",
      "execution_count": 24,
      "metadata": {
        "id": "1bc9dfa4"
      },
      "outputs": [],
      "source": [
        "from sklearn.naive_bayes import MultinomialNB #다항분포 나이브 베이즈 모델\n",
        "from sklearn.linear_model import LogisticRegression, SGDClassifier\n",
        "from sklearn.naive_bayes import ComplementNB\n",
        "from sklearn.tree import DecisionTreeClassifier\n",
        "from sklearn.ensemble import RandomForestClassifier\n",
        "from sklearn.ensemble import GradientBoostingClassifier\n",
        "from sklearn.ensemble import VotingClassifier\n",
        "from sklearn.svm import LinearSVC\n",
        "from sklearn.metrics import accuracy_score #정확도 계산"
      ],
      "id": "1bc9dfa4"
    },
    {
      "cell_type": "markdown",
      "metadata": {
        "id": "ae779d20"
      },
      "source": [
        "### 1) Naive Bayes Classifier(NB)"
      ],
      "id": "ae779d20"
    },
    {
      "cell_type": "code",
      "execution_count": 25,
      "metadata": {
        "colab": {
          "base_uri": "https://localhost:8080/"
        },
        "id": "2da7b74d",
        "outputId": "44eff224-e2e4-4f07-87ef-1c7d866678b8"
      },
      "outputs": [
        {
          "output_type": "execute_result",
          "data": {
            "text/plain": [
              "MultinomialNB()"
            ]
          },
          "metadata": {},
          "execution_count": 25
        }
      ],
      "source": [
        "model = MultinomialNB()\n",
        "model.fit(tfidfv, y_train)"
      ],
      "id": "2da7b74d"
    },
    {
      "cell_type": "markdown",
      "metadata": {
        "id": "5588262b"
      },
      "source": [
        "테스트 데이터도 TF-IDF 행렬로 변환. 그 후 해당 행렬과 predict() 함수를 통해 예측값을 얻어 정확도를 측정"
      ],
      "id": "5588262b"
    },
    {
      "cell_type": "code",
      "execution_count": 26,
      "metadata": {
        "colab": {
          "base_uri": "https://localhost:8080/"
        },
        "id": "7dfa8236",
        "outputId": "13c854ff-1920-4620-a600-71bffbdf085e"
      },
      "outputs": [
        {
          "output_type": "stream",
          "name": "stdout",
          "text": [
            "정확도: 0.5997328584149599\n"
          ]
        }
      ],
      "source": [
        "predicted = model.predict(tfidfv_test) #테스트 데이터에 대한 예측\n",
        "print(\"정확도:\", accuracy_score(y_test, predicted)) #예측값과 실제값 비교"
      ],
      "id": "7dfa8236"
    },
    {
      "cell_type": "code",
      "execution_count": 27,
      "metadata": {
        "colab": {
          "base_uri": "https://localhost:8080/",
          "height": 90
        },
        "id": "2e57c84c",
        "outputId": "0f78127c-9568-4914-b6e7-706a0e178046"
      },
      "outputs": [
        {
          "output_type": "execute_result",
          "data": {
            "text/plain": [
              "'<sos> graham mccormick oil and gas partnership said it completed the sale of interests in two major oil and gas fields to lt energy assets international corp for 21 mln dlrs the company said it sold about one half of its 50 pct interest in the oak hill and north rucias fields its two largest producing properties it said it used about 20 mln dlrs of the proceeds to prepay principal on its senior secured notes semi annual principal payments on the remaining 40 mln dlrs of notes have been satisfied until december 1988 as a result it said the company said the note agreements were amended to reflect an easing of some financial covenants and an increase of interest to 13 5 pct from 13 0 pct until december 1990 it said the noteholders exercise price for 1 125 000 warrants was also reduced to 50 cts from 1 50 dlrs the company said energy assets agreed to share the costs of increasing production at the oak hill field reuter 3'"
            ],
            "application/vnd.google.colaboratory.intrinsic+json": {
              "type": "string"
            }
          },
          "metadata": {},
          "execution_count": 27
        }
      ],
      "source": [
        "x_test[3]"
      ],
      "id": "2e57c84c"
    },
    {
      "cell_type": "code",
      "execution_count": 28,
      "metadata": {
        "colab": {
          "base_uri": "https://localhost:8080/"
        },
        "id": "d5fa91f0",
        "outputId": "e3f4143a-613b-40bd-b982-b9680850a5e7"
      },
      "outputs": [
        {
          "output_type": "execute_result",
          "data": {
            "text/plain": [
              "4"
            ]
          },
          "metadata": {},
          "execution_count": 28
        }
      ],
      "source": [
        "y_test[3]"
      ],
      "id": "d5fa91f0"
    },
    {
      "cell_type": "code",
      "execution_count": 29,
      "metadata": {
        "id": "d4abadf9"
      },
      "outputs": [],
      "source": [
        "from sklearn.metrics import classification_report\n",
        "from sklearn.metrics import confusion_matrix"
      ],
      "id": "d4abadf9"
    },
    {
      "cell_type": "code",
      "execution_count": 30,
      "metadata": {
        "colab": {
          "base_uri": "https://localhost:8080/"
        },
        "id": "7a0c5283",
        "outputId": "d93b5622-7277-4c26-d891-fd40cb89b1ad"
      },
      "outputs": [
        {
          "output_type": "stream",
          "name": "stdout",
          "text": [
            "              precision    recall  f1-score   support\n",
            "\n",
            "           0       0.00      0.00      0.00        12\n",
            "           1       0.79      0.21      0.33       105\n",
            "           2       0.00      0.00      0.00        20\n",
            "           3       0.72      0.92      0.81       813\n",
            "           4       0.45      0.96      0.61       474\n",
            "           5       0.00      0.00      0.00         5\n",
            "           6       0.00      0.00      0.00        14\n",
            "           7       0.00      0.00      0.00         3\n",
            "           8       0.00      0.00      0.00        38\n",
            "           9       0.00      0.00      0.00        25\n",
            "          10       0.00      0.00      0.00        30\n",
            "          11       0.80      0.29      0.42        83\n",
            "          12       0.00      0.00      0.00        13\n",
            "          13       0.00      0.00      0.00        37\n",
            "          14       0.00      0.00      0.00         2\n",
            "          15       0.00      0.00      0.00         9\n",
            "          16       0.75      0.18      0.29        99\n",
            "          17       0.00      0.00      0.00        12\n",
            "          18       0.00      0.00      0.00        20\n",
            "          19       0.73      0.58      0.64       133\n",
            "          20       0.00      0.00      0.00        70\n",
            "          21       0.00      0.00      0.00        27\n",
            "          22       0.00      0.00      0.00         7\n",
            "          23       0.00      0.00      0.00        12\n",
            "          24       0.00      0.00      0.00        19\n",
            "          25       0.00      0.00      0.00        31\n",
            "          26       0.00      0.00      0.00         8\n",
            "          27       0.00      0.00      0.00         4\n",
            "          28       0.00      0.00      0.00        10\n",
            "          29       0.00      0.00      0.00         4\n",
            "          30       0.00      0.00      0.00        12\n",
            "          31       0.00      0.00      0.00        13\n",
            "          32       0.00      0.00      0.00        10\n",
            "          33       0.00      0.00      0.00         5\n",
            "          34       0.00      0.00      0.00         7\n",
            "          35       0.00      0.00      0.00         6\n",
            "          36       0.00      0.00      0.00        11\n",
            "          37       0.00      0.00      0.00         2\n",
            "          38       0.00      0.00      0.00         3\n",
            "          39       0.00      0.00      0.00         5\n",
            "          40       0.00      0.00      0.00        10\n",
            "          41       0.00      0.00      0.00         8\n",
            "          42       0.00      0.00      0.00         3\n",
            "          43       0.00      0.00      0.00         6\n",
            "          44       0.00      0.00      0.00         5\n",
            "          45       0.00      0.00      0.00         1\n",
            "\n",
            "    accuracy                           0.60      2246\n",
            "   macro avg       0.09      0.07      0.07      2246\n",
            "weighted avg       0.50      0.60      0.50      2246\n",
            "\n"
          ]
        }
      ],
      "source": [
        "print(classification_report(y_test, model.predict(tfidfv_test), zero_division=0))"
      ],
      "id": "7a0c5283"
    },
    {
      "cell_type": "markdown",
      "metadata": {
        "id": "cd1def42"
      },
      "source": [
        "- macro: 단순평균\n",
        "- weighted: 각 클래스에 속하는 표본의 개수로 가중평균\n",
        "- accuracy: 정확도. 전체 학습 데이터의 개수에서 클래스를 정확하게 맞춘 개수의 비율"
      ],
      "id": "cd1def42"
    },
    {
      "cell_type": "markdown",
      "metadata": {
        "id": "4ac3d262"
      },
      "source": [
        "나이브 베이지안 분류기는 독립 변수가 '조건부로 독립적'이라는 가정을 하기 때문에, 문서가 특정 분류에 속할 실제 확률을 사용할 때 문제가 발생할 수 있다. 예를 들어 많은 샘플(sample)이 특정 클래스에 치우쳐져 있을 경우, 결정 경계의 가중치가 한쪽으로 치우쳐져 모델이 특정 클래스를 선호하는 경우가 발생\n",
        "### 2) Complement Naive Bayes Classifier(CNB)\n",
        "데이터가 불균형할 경우를 대비해 나이브 베이즈 분류기를 보완한 것이 컴플리먼트 나이브 베이즈 분류기\n",
        "\n",
        "컴플리먼트 나이브 베이즈 분류기는 데이터의 불균형을 고려하여 가중치를 부여하는 특징을 가지고 있다"
      ],
      "id": "4ac3d262"
    },
    {
      "cell_type": "code",
      "execution_count": 31,
      "metadata": {
        "colab": {
          "base_uri": "https://localhost:8080/"
        },
        "id": "067248c1",
        "outputId": "8f25a22e-b21b-4539-b9a9-ed0d7a524538"
      },
      "outputs": [
        {
          "output_type": "execute_result",
          "data": {
            "text/plain": [
              "ComplementNB()"
            ]
          },
          "metadata": {},
          "execution_count": 31
        }
      ],
      "source": [
        "cb = ComplementNB()\n",
        "cb.fit(tfidfv, y_train)"
      ],
      "id": "067248c1"
    },
    {
      "cell_type": "code",
      "execution_count": 32,
      "metadata": {
        "colab": {
          "base_uri": "https://localhost:8080/"
        },
        "id": "46b19a68",
        "outputId": "e7272ba2-aad7-41d4-bb40-08790e4a463d"
      },
      "outputs": [
        {
          "output_type": "stream",
          "name": "stdout",
          "text": [
            "정확도: 0.7649154051647373\n"
          ]
        }
      ],
      "source": [
        "predicted = cb.predict(tfidfv_test) #테스트 데이터에 대한 예측\n",
        "print(\"정확도:\", accuracy_score(y_test, predicted)) #예측값과 실제값 비교"
      ],
      "id": "46b19a68"
    },
    {
      "cell_type": "markdown",
      "metadata": {
        "id": "63965b26"
      },
      "source": [
        "### 3) 로지스틱 회귀(Logistic Regression)\n",
        "로지스틱 회귀는 소프트맥스(softmax) 함수를 사용한 다중 클래스 분류 알고리즘을 지원\n",
        "\n",
        "다중 클래스 분류를 위한 로지스틱 회귀를 소프트맥스 회귀(Softmax Regression)라고도 함\n",
        "\n",
        "주의할 점은 이름은 회귀지만, 실제로는 분류를 수행한다는 점"
      ],
      "id": "63965b26"
    },
    {
      "cell_type": "code",
      "execution_count": 33,
      "metadata": {
        "colab": {
          "base_uri": "https://localhost:8080/"
        },
        "id": "0d5aba24",
        "outputId": "7e98e5a0-446b-4c2c-f030-aa50d7844d25"
      },
      "outputs": [
        {
          "output_type": "stream",
          "name": "stderr",
          "text": [
            "/usr/local/lib/python3.7/dist-packages/sklearn/linear_model/_logistic.py:818: ConvergenceWarning: lbfgs failed to converge (status=1):\n",
            "STOP: TOTAL NO. of ITERATIONS REACHED LIMIT.\n",
            "\n",
            "Increase the number of iterations (max_iter) or scale the data as shown in:\n",
            "    https://scikit-learn.org/stable/modules/preprocessing.html\n",
            "Please also refer to the documentation for alternative solver options:\n",
            "    https://scikit-learn.org/stable/modules/linear_model.html#logistic-regression\n",
            "  extra_warning_msg=_LOGISTIC_SOLVER_CONVERGENCE_MSG,\n"
          ]
        },
        {
          "output_type": "execute_result",
          "data": {
            "text/plain": [
              "LogisticRegression(C=10000)"
            ]
          },
          "metadata": {},
          "execution_count": 33
        }
      ],
      "source": [
        "lr = LogisticRegression(C=10000, penalty='l2')\n",
        "lr.fit(tfidfv, y_train)"
      ],
      "id": "0d5aba24"
    },
    {
      "cell_type": "code",
      "execution_count": 34,
      "metadata": {
        "colab": {
          "base_uri": "https://localhost:8080/"
        },
        "id": "b8889f2e",
        "outputId": "28cb1b6c-1130-4bd3-a70f-674442a3c66d"
      },
      "outputs": [
        {
          "output_type": "stream",
          "name": "stdout",
          "text": [
            "정확도: 0.813446126447017\n"
          ]
        }
      ],
      "source": [
        "predicted = lr.predict(tfidfv_test) #테스트 데이터에 대한 예측\n",
        "print(\"정확도:\", accuracy_score(y_test, predicted)) #예측값과 실제값 비교"
      ],
      "id": "b8889f2e"
    },
    {
      "cell_type": "markdown",
      "metadata": {
        "id": "03826d44"
      },
      "source": [
        "### 4) 선형 서포트 벡터 머신(Linear Support Vector Machine)\n",
        "서포트 벡터 머신(SVM)은 대표적인 선형 분류 알고리즘\n",
        "\n",
        "- 서포트 벡터 머신에서 서포트 벡터란?\n",
        "Decision Boundary와 가장 가까운 각 클래스의 데이터를 서포트 벡터라고 한다\n",
        "\n",
        "주의! Decision Boundary에 해당되는 벡터가 아님"
      ],
      "id": "03826d44"
    },
    {
      "cell_type": "code",
      "execution_count": 35,
      "metadata": {
        "colab": {
          "base_uri": "https://localhost:8080/"
        },
        "id": "d7722040",
        "outputId": "79235569-3b78-435d-cc5e-c4f9afc99c8f"
      },
      "outputs": [
        {
          "output_type": "stream",
          "name": "stderr",
          "text": [
            "/usr/local/lib/python3.7/dist-packages/sklearn/svm/_base.py:1208: ConvergenceWarning: Liblinear failed to converge, increase the number of iterations.\n",
            "  ConvergenceWarning,\n"
          ]
        },
        {
          "output_type": "execute_result",
          "data": {
            "text/plain": [
              "LinearSVC(C=1000, dual=False, max_iter=500, penalty='l1')"
            ]
          },
          "metadata": {},
          "execution_count": 35
        }
      ],
      "source": [
        "lsvc = LinearSVC(C=1000, penalty='l1', max_iter=500, dual=False)\n",
        "lsvc.fit(tfidfv, y_train)"
      ],
      "id": "d7722040"
    },
    {
      "cell_type": "code",
      "execution_count": 36,
      "metadata": {
        "colab": {
          "base_uri": "https://localhost:8080/"
        },
        "id": "cffeed54",
        "outputId": "1b5ca715-a116-4c7a-c4b5-c9beefd6e517"
      },
      "outputs": [
        {
          "output_type": "stream",
          "name": "stdout",
          "text": [
            "정확도: 0.7853962600178095\n"
          ]
        }
      ],
      "source": [
        "predicted = lsvc.predict(tfidfv_test) #테스트 데이터에 대한 예측\n",
        "print(\"정확도:\", accuracy_score(y_test, predicted)) #예측값과 실제값 비교"
      ],
      "id": "cffeed54"
    },
    {
      "cell_type": "markdown",
      "metadata": {
        "id": "fe007c20"
      },
      "source": [
        "### 5) 결정 트리(Decision Tree)\n",
        "결정 트리는 분류와 회귀 문제에 널리 사용하는 모델\n",
        "\n",
        "기본적으로 결정 트리는 결정에 다다르기 위해 '예/아니오' 질문을 이어 나가면서 학습 스무고개 놀이의 질문과 비슷"
      ],
      "id": "fe007c20"
    },
    {
      "cell_type": "markdown",
      "metadata": {
        "id": "97f79ff5"
      },
      "source": [
        "결정 트리의 깊이는 max_depth라는 인자를 통해서 정해줄 수 있"
      ],
      "id": "97f79ff5"
    },
    {
      "cell_type": "code",
      "execution_count": 37,
      "metadata": {
        "colab": {
          "base_uri": "https://localhost:8080/"
        },
        "id": "d980cc37",
        "outputId": "346debb9-7cc1-4ca6-ca49-c9bac34378b6"
      },
      "outputs": [
        {
          "output_type": "execute_result",
          "data": {
            "text/plain": [
              "DecisionTreeClassifier(max_depth=10, random_state=0)"
            ]
          },
          "metadata": {},
          "execution_count": 37
        }
      ],
      "source": [
        "tree = DecisionTreeClassifier(max_depth=10, random_state=0)\n",
        "tree.fit(tfidfv, y_train)"
      ],
      "id": "d980cc37"
    },
    {
      "cell_type": "code",
      "execution_count": 38,
      "metadata": {
        "colab": {
          "base_uri": "https://localhost:8080/"
        },
        "id": "417d6507",
        "outputId": "be67a838-f79a-4aa5-ec02-1866a09531bb"
      },
      "outputs": [
        {
          "output_type": "stream",
          "name": "stdout",
          "text": [
            "정확도: 0.6211041852181657\n"
          ]
        }
      ],
      "source": [
        "predicted = tree.predict(tfidfv_test) #테스트 데이터에 대한 예측\n",
        "print(\"정확도:\", accuracy_score(y_test, predicted)) #예측값과 실제값 비교"
      ],
      "id": "417d6507"
    },
    {
      "cell_type": "markdown",
      "metadata": {
        "id": "4666c8bd"
      },
      "source": [
        "### 6) 랜덤 포레스트(Random Forest)\n",
        "앙상블(Ensemble)이란 여러 머신러닝 모델을 연결하여 더 강력한 모델을 만드는 기법\n",
        "\n",
        "랜덤 포레스트와 그래디언트 부스팅 트리는 결정 트리를 사용하는 앙상블 모델"
      ],
      "id": "4666c8bd"
    },
    {
      "cell_type": "code",
      "execution_count": 39,
      "metadata": {
        "colab": {
          "base_uri": "https://localhost:8080/"
        },
        "id": "7a68f4cf",
        "outputId": "4804fd85-3b55-4f4e-df60-94a9b0dac55e"
      },
      "outputs": [
        {
          "output_type": "execute_result",
          "data": {
            "text/plain": [
              "RandomForestClassifier(n_estimators=5, random_state=0)"
            ]
          },
          "metadata": {},
          "execution_count": 39
        }
      ],
      "source": [
        "forest = RandomForestClassifier(n_estimators=5, random_state=0)\n",
        "forest.fit(tfidfv, y_train)"
      ],
      "id": "7a68f4cf"
    },
    {
      "cell_type": "code",
      "execution_count": 40,
      "metadata": {
        "colab": {
          "base_uri": "https://localhost:8080/"
        },
        "id": "55becc34",
        "outputId": "4c82a6b6-5a02-49b9-a3e0-0bb7fe450b4c"
      },
      "outputs": [
        {
          "output_type": "stream",
          "name": "stdout",
          "text": [
            "정확도: 0.6544968833481746\n"
          ]
        }
      ],
      "source": [
        "predicted = forest.predict(tfidfv_test) #테스트 데이터에 대한 예측\n",
        "print(\"정확도:\", accuracy_score(y_test, predicted)) #예측값과 실제값 비교"
      ],
      "id": "55becc34"
    },
    {
      "cell_type": "markdown",
      "metadata": {
        "id": "c2aa9d55"
      },
      "source": [
        "### 7) 그래디언트 부스팅 트리(GradientBoostingClassifier)\n",
        "그래디언트 부스팅 트리는 여러 개의 결정 트리를 묶어 만드는 앙상블 모델\n",
        "\n",
        "랜덤 포레스트와 다르게 이전 트리의 오차를 보완하는 방식으로 순차적으로 트리를 만든다\n",
        "- 1 ~ 5 정도의 깊지 않은 트리를 사용하므로 메모리도 적게 사용하고 예측도 빠름\n",
        "- 정확도도 준수하고, 특히 예측 속도가 빠르다는 점에서 데이터 경진 대회에서 많은 우승을 했던 모델\n",
        "- 훈련 시간의 속도가 좀 오래 걸리고, 트리 기반 모델의 특성으로 인해서 희소한 고차원 데이터에 대해서는 잘 동작하지 않는다는 단점"
      ],
      "id": "c2aa9d55"
    },
    {
      "cell_type": "markdown",
      "metadata": {
        "id": "b7d3e8f1"
      },
      "source": [
        "## 2. 빈도수 상위 5,000개의 단어만 사용"
      ],
      "id": "b7d3e8f1"
    },
    {
      "cell_type": "code",
      "execution_count": 41,
      "metadata": {
        "id": "93435253"
      },
      "outputs": [],
      "source": [
        "(x_train, y_train), (x_test, y_test) = reuters.load_data(num_words=5000, test_split=0.2)"
      ],
      "id": "93435253"
    },
    {
      "cell_type": "code",
      "execution_count": 42,
      "metadata": {
        "id": "2f61542e"
      },
      "outputs": [],
      "source": [
        "word_index = reuters.get_word_index(path=\"reuters_word_index.json\")"
      ],
      "id": "2f61542e"
    },
    {
      "cell_type": "code",
      "execution_count": 43,
      "metadata": {
        "id": "f678d7cb"
      },
      "outputs": [],
      "source": [
        "index_to_word = { index+3 : word for word, index in word_index.items() }"
      ],
      "id": "f678d7cb"
    },
    {
      "cell_type": "code",
      "execution_count": 44,
      "metadata": {
        "id": "7a5638a7"
      },
      "outputs": [],
      "source": [
        "for index, token in enumerate((\"<pad>\", \"<sos>\", \"<unk>\")):\n",
        "  index_to_word[index]=token"
      ],
      "id": "7a5638a7"
    },
    {
      "cell_type": "code",
      "execution_count": 45,
      "metadata": {
        "colab": {
          "base_uri": "https://localhost:8080/"
        },
        "id": "60a29ddb",
        "outputId": "6653201d-c1b2-41aa-9b35-591dcb1c0ffd"
      },
      "outputs": [
        {
          "output_type": "stream",
          "name": "stdout",
          "text": [
            "<sos> <unk> <unk> said as a result of its december acquisition of space co it expects earnings per share in 1987 of 1 15 to 1 30 dlrs per share up from 70 cts in 1986 the company said pretax net should rise to nine to 10 mln dlrs from six mln dlrs in 1986 and rental operation revenues to 19 to 22 mln dlrs from 12 5 mln dlrs it said cash flow per share this year should be 2 50 to three dlrs reuter 3\n"
          ]
        }
      ],
      "source": [
        "print(' '.join([index_to_word[index] for index in x_train[0]]))"
      ],
      "id": "60a29ddb"
    },
    {
      "cell_type": "code",
      "execution_count": 46,
      "metadata": {
        "colab": {
          "base_uri": "https://localhost:8080/"
        },
        "id": "e22a8545",
        "outputId": "2a06a1b4-079e-4bff-d772-cf9b76dbd7c6"
      },
      "outputs": [
        {
          "output_type": "stream",
          "name": "stdout",
          "text": [
            "8982\n"
          ]
        }
      ],
      "source": [
        "decoded = []\n",
        "for i in range(len(x_train)):\n",
        "    t = ' '.join([index_to_word[index] for index in x_train[i]])\n",
        "    decoded.append(t)\n",
        "\n",
        "x_train = decoded\n",
        "print(len(x_train))"
      ],
      "id": "e22a8545"
    },
    {
      "cell_type": "code",
      "execution_count": 47,
      "metadata": {
        "colab": {
          "base_uri": "https://localhost:8080/"
        },
        "id": "eb106f27",
        "outputId": "acb24be4-870e-467a-a9eb-59a238a021c1"
      },
      "outputs": [
        {
          "output_type": "stream",
          "name": "stdout",
          "text": [
            "2246\n"
          ]
        }
      ],
      "source": [
        "decoded = []\n",
        "for i in range(len(x_test)):\n",
        "    t = ' '.join([index_to_word[index] for index in x_test[i]])\n",
        "    decoded.append(t)\n",
        "\n",
        "x_test = decoded\n",
        "print(len(x_test))"
      ],
      "id": "eb106f27"
    },
    {
      "cell_type": "code",
      "execution_count": 48,
      "metadata": {
        "colab": {
          "base_uri": "https://localhost:8080/"
        },
        "id": "ead7ebd5",
        "outputId": "984410f4-cb09-4cc6-efb2-8482d16497f5"
      },
      "outputs": [
        {
          "output_type": "execute_result",
          "data": {
            "text/plain": [
              "['<sos> <unk> <unk> said as a result of its december acquisition of space co it expects earnings per share in 1987 of 1 15 to 1 30 dlrs per share up from 70 cts in 1986 the company said pretax net should rise to nine to 10 mln dlrs from six mln dlrs in 1986 and rental operation revenues to 19 to 22 mln dlrs from 12 5 mln dlrs it said cash flow per share this year should be 2 50 to three dlrs reuter 3']"
            ]
          },
          "metadata": {},
          "execution_count": 48
        }
      ],
      "source": [
        "x_train[:1]"
      ],
      "id": "ead7ebd5"
    },
    {
      "cell_type": "code",
      "execution_count": 49,
      "metadata": {
        "colab": {
          "base_uri": "https://localhost:8080/"
        },
        "id": "8998bd7a",
        "outputId": "31f015cd-2f0a-4152-f379-a70b8f8b3a8b"
      },
      "outputs": [
        {
          "output_type": "execute_result",
          "data": {
            "text/plain": [
              "['<sos> the great atlantic and pacific tea co said its three year 345 mln dlr capital program will be be substantially increased to <unk> growth and expansion plans for <unk> inc and <unk> inc over the next two years a and p said the acquisition of <unk> in august 1986 and <unk> in december helped us achieve better than expected results in the fourth quarter ended february 28 its net income from continuing operations jumped 52 6 pct to 20 7 mln dlrs or 55 cts a share in the latest quarter as sales increased 48 3 pct to 1 58 billion dlrs a and p gave no details on the expanded capital program but it did say it completed the first year of the program during 1986 a and p is 52 4 pct owned by lt <unk> <unk> of west germany reuter 3']"
            ]
          },
          "metadata": {},
          "execution_count": 49
        }
      ],
      "source": [
        "x_test[:1]"
      ],
      "id": "8998bd7a"
    },
    {
      "cell_type": "code",
      "execution_count": 50,
      "metadata": {
        "id": "a221d2e1"
      },
      "outputs": [],
      "source": [
        "from sklearn.feature_extraction.text import CountVectorizer\n",
        "from sklearn.feature_extraction.text import TfidfTransformer"
      ],
      "id": "a221d2e1"
    },
    {
      "cell_type": "code",
      "execution_count": 51,
      "metadata": {
        "colab": {
          "base_uri": "https://localhost:8080/"
        },
        "id": "afe7cb18",
        "outputId": "312aeea2-cea5-4210-c596-9f9442b1a6cc"
      },
      "outputs": [
        {
          "output_type": "stream",
          "name": "stdout",
          "text": [
            "(8982, 4867)\n"
          ]
        }
      ],
      "source": [
        "dtmvector = CountVectorizer()\n",
        "x_train_dtm = dtmvector.fit_transform(x_train)\n",
        "print(x_train_dtm.shape)"
      ],
      "id": "afe7cb18"
    },
    {
      "cell_type": "code",
      "execution_count": 52,
      "metadata": {
        "colab": {
          "base_uri": "https://localhost:8080/"
        },
        "id": "224a6731",
        "outputId": "c5feae81-eabd-4d22-829d-facc0d7442b7"
      },
      "outputs": [
        {
          "output_type": "stream",
          "name": "stdout",
          "text": [
            "(8982, 4867)\n"
          ]
        }
      ],
      "source": [
        "tfidf_transformer = TfidfTransformer()\n",
        "tfidfv = tfidf_transformer.fit_transform(x_train_dtm)\n",
        "print(tfidfv.shape)"
      ],
      "id": "224a6731"
    },
    {
      "cell_type": "code",
      "execution_count": 53,
      "metadata": {
        "id": "0b2ea0f7"
      },
      "outputs": [],
      "source": [
        "x_test_dtm = dtmvector.transform(x_test)\n",
        "tfidfv_test = tfidf_transformer.transform(x_test_dtm)"
      ],
      "id": "0b2ea0f7"
    },
    {
      "cell_type": "markdown",
      "metadata": {
        "id": "eee6ce35"
      },
      "source": [
        "### 1) Naive Bayes Classifier(NB)"
      ],
      "id": "eee6ce35"
    },
    {
      "cell_type": "code",
      "execution_count": 54,
      "metadata": {
        "colab": {
          "base_uri": "https://localhost:8080/"
        },
        "id": "ffaafe5f",
        "outputId": "338bbc0f-5c49-4b8a-8923-db8491379bd7"
      },
      "outputs": [
        {
          "output_type": "execute_result",
          "data": {
            "text/plain": [
              "MultinomialNB()"
            ]
          },
          "metadata": {},
          "execution_count": 54
        }
      ],
      "source": [
        "model = MultinomialNB()\n",
        "model.fit(tfidfv, y_train)"
      ],
      "id": "ffaafe5f"
    },
    {
      "cell_type": "code",
      "execution_count": 55,
      "metadata": {
        "colab": {
          "base_uri": "https://localhost:8080/"
        },
        "id": "3dfb2204",
        "outputId": "b6f737e5-45e2-40f9-b2d1-67158a0bdd45"
      },
      "outputs": [
        {
          "output_type": "stream",
          "name": "stdout",
          "text": [
            "정확도: 0.6731967943009796\n"
          ]
        }
      ],
      "source": [
        "predicted = model.predict(tfidfv_test)\n",
        "print(\"정확도:\", accuracy_score(y_test, predicted))"
      ],
      "id": "3dfb2204"
    },
    {
      "cell_type": "markdown",
      "metadata": {
        "id": "21b7bccb"
      },
      "source": [
        "### 2) Complement Naive Bayes Classifier(CNB)"
      ],
      "id": "21b7bccb"
    },
    {
      "cell_type": "code",
      "execution_count": 56,
      "metadata": {
        "colab": {
          "base_uri": "https://localhost:8080/"
        },
        "id": "306c79a0",
        "outputId": "a98defda-4eb6-4b41-c9a1-54f0d603ea10"
      },
      "outputs": [
        {
          "output_type": "execute_result",
          "data": {
            "text/plain": [
              "ComplementNB()"
            ]
          },
          "metadata": {},
          "execution_count": 56
        }
      ],
      "source": [
        "cb = ComplementNB()\n",
        "cb.fit(tfidfv, y_train)"
      ],
      "id": "306c79a0"
    },
    {
      "cell_type": "code",
      "execution_count": 57,
      "metadata": {
        "colab": {
          "base_uri": "https://localhost:8080/"
        },
        "id": "3c36b6bb",
        "outputId": "bf32ce81-7783-4503-bd3b-846f6b24e8c9"
      },
      "outputs": [
        {
          "output_type": "stream",
          "name": "stdout",
          "text": [
            "정확도: 0.7707034728406055\n"
          ]
        }
      ],
      "source": [
        "predicted = cb.predict(tfidfv_test) #테스트 데이터에 대한 예측\n",
        "print(\"정확도:\", accuracy_score(y_test, predicted)) #예측값과 실제값 비교"
      ],
      "id": "3c36b6bb"
    },
    {
      "cell_type": "markdown",
      "metadata": {
        "id": "14fe5011"
      },
      "source": [
        "### 3) 로지스틱 회귀(Logistic Regression)"
      ],
      "id": "14fe5011"
    },
    {
      "cell_type": "code",
      "execution_count": 58,
      "metadata": {
        "colab": {
          "base_uri": "https://localhost:8080/"
        },
        "id": "8751f461",
        "outputId": "0c7c29c3-4ddb-45da-e427-bdfe92c7f2ba"
      },
      "outputs": [
        {
          "output_type": "stream",
          "name": "stderr",
          "text": [
            "/usr/local/lib/python3.7/dist-packages/sklearn/linear_model/_logistic.py:818: ConvergenceWarning: lbfgs failed to converge (status=1):\n",
            "STOP: TOTAL NO. of ITERATIONS REACHED LIMIT.\n",
            "\n",
            "Increase the number of iterations (max_iter) or scale the data as shown in:\n",
            "    https://scikit-learn.org/stable/modules/preprocessing.html\n",
            "Please also refer to the documentation for alternative solver options:\n",
            "    https://scikit-learn.org/stable/modules/linear_model.html#logistic-regression\n",
            "  extra_warning_msg=_LOGISTIC_SOLVER_CONVERGENCE_MSG,\n"
          ]
        },
        {
          "output_type": "execute_result",
          "data": {
            "text/plain": [
              "LogisticRegression(C=10000)"
            ]
          },
          "metadata": {},
          "execution_count": 58
        }
      ],
      "source": [
        "lr = LogisticRegression(C=10000, penalty='l2')\n",
        "lr.fit(tfidfv, y_train)"
      ],
      "id": "8751f461"
    },
    {
      "cell_type": "code",
      "execution_count": 59,
      "metadata": {
        "colab": {
          "base_uri": "https://localhost:8080/"
        },
        "id": "c7289e24",
        "outputId": "a87d6ad8-d9f2-434f-da99-cf5282bfcdbb"
      },
      "outputs": [
        {
          "output_type": "stream",
          "name": "stdout",
          "text": [
            "정확도: 0.8058771148708815\n"
          ]
        }
      ],
      "source": [
        "predicted = lr.predict(tfidfv_test) #테스트 데이터에 대한 예측\n",
        "print(\"정확도:\", accuracy_score(y_test, predicted)) #예측값과 실제값 비교"
      ],
      "id": "c7289e24"
    },
    {
      "cell_type": "markdown",
      "metadata": {
        "id": "01c34328"
      },
      "source": [
        "### 4) 선형 서포트 벡터 머신(Linear Support Vector Machine)"
      ],
      "id": "01c34328"
    },
    {
      "cell_type": "code",
      "execution_count": 60,
      "metadata": {
        "colab": {
          "base_uri": "https://localhost:8080/"
        },
        "id": "a0df516c",
        "outputId": "5b4e0677-da5b-4ced-da92-8125dcf3137f"
      },
      "outputs": [
        {
          "output_type": "stream",
          "name": "stderr",
          "text": [
            "/usr/local/lib/python3.7/dist-packages/sklearn/svm/_base.py:1208: ConvergenceWarning: Liblinear failed to converge, increase the number of iterations.\n",
            "  ConvergenceWarning,\n"
          ]
        },
        {
          "output_type": "execute_result",
          "data": {
            "text/plain": [
              "LinearSVC(C=1000, dual=False, max_iter=500, penalty='l1')"
            ]
          },
          "metadata": {},
          "execution_count": 60
        }
      ],
      "source": [
        "lsvc = LinearSVC(C=1000, penalty='l1', max_iter=500, dual=False)\n",
        "lsvc.fit(tfidfv, y_train)"
      ],
      "id": "a0df516c"
    },
    {
      "cell_type": "code",
      "execution_count": 61,
      "metadata": {
        "colab": {
          "base_uri": "https://localhost:8080/"
        },
        "id": "3d13fd69",
        "outputId": "e8867e5d-5811-446b-a771-3f5ff54dc47a"
      },
      "outputs": [
        {
          "output_type": "stream",
          "name": "stdout",
          "text": [
            "정확도: 0.7711487088156723\n"
          ]
        }
      ],
      "source": [
        "predicted = lsvc.predict(tfidfv_test) #테스트 데이터에 대한 예측\n",
        "print(\"정확도:\", accuracy_score(y_test, predicted)) #예측값과 실제값 비교"
      ],
      "id": "3d13fd69"
    },
    {
      "cell_type": "markdown",
      "metadata": {
        "id": "b0c38c18"
      },
      "source": [
        "### 5) 의사 결정 트리(Decision Tree)"
      ],
      "id": "b0c38c18"
    },
    {
      "cell_type": "code",
      "execution_count": 62,
      "metadata": {
        "colab": {
          "base_uri": "https://localhost:8080/"
        },
        "id": "a1ec6bd7",
        "outputId": "c5d9ed50-5fbb-41cb-c398-fa43a5fae9d8"
      },
      "outputs": [
        {
          "output_type": "execute_result",
          "data": {
            "text/plain": [
              "DecisionTreeClassifier(max_depth=10, random_state=0)"
            ]
          },
          "metadata": {},
          "execution_count": 62
        }
      ],
      "source": [
        "tree = DecisionTreeClassifier(max_depth=10, random_state=0)\n",
        "tree.fit(tfidfv, y_train)"
      ],
      "id": "a1ec6bd7"
    },
    {
      "cell_type": "code",
      "execution_count": 63,
      "metadata": {
        "colab": {
          "base_uri": "https://localhost:8080/"
        },
        "id": "ccf481e2",
        "outputId": "75eacc49-7286-477d-fce0-410c9c5e6f9f"
      },
      "outputs": [
        {
          "output_type": "stream",
          "name": "stdout",
          "text": [
            "정확도: 0.6179875333926982\n"
          ]
        }
      ],
      "source": [
        "predicted = tree.predict(tfidfv_test) #테스트 데이터에 대한 예측\n",
        "print(\"정확도:\", accuracy_score(y_test, predicted)) #예측값과 실제값 비교"
      ],
      "id": "ccf481e2"
    },
    {
      "cell_type": "markdown",
      "metadata": {
        "id": "48597f6b"
      },
      "source": [
        "### 6) 랜덤 포레스트(Random Forest)"
      ],
      "id": "48597f6b"
    },
    {
      "cell_type": "code",
      "execution_count": 64,
      "metadata": {
        "colab": {
          "base_uri": "https://localhost:8080/"
        },
        "id": "9d247bde",
        "outputId": "8c5e553e-bb71-4c9c-a7bd-8dc74dcafeda"
      },
      "outputs": [
        {
          "output_type": "execute_result",
          "data": {
            "text/plain": [
              "RandomForestClassifier(n_estimators=5, random_state=0)"
            ]
          },
          "metadata": {},
          "execution_count": 64
        }
      ],
      "source": [
        "forest = RandomForestClassifier(n_estimators=5, random_state=0)\n",
        "forest.fit(tfidfv, y_train)"
      ],
      "id": "9d247bde"
    },
    {
      "cell_type": "code",
      "execution_count": 65,
      "metadata": {
        "colab": {
          "base_uri": "https://localhost:8080/"
        },
        "id": "f6416ea9",
        "outputId": "8027306c-87bd-4d07-eb48-8c32f5c037f7"
      },
      "outputs": [
        {
          "output_type": "stream",
          "name": "stdout",
          "text": [
            "정확도: 0.701246660730187\n"
          ]
        }
      ],
      "source": [
        "predicted = forest.predict(tfidfv_test) #테스트 데이터에 대한 예측\n",
        "print(\"정확도:\", accuracy_score(y_test, predicted)) #예측값과 실제값 비교"
      ],
      "id": "f6416ea9"
    },
    {
      "cell_type": "markdown",
      "metadata": {
        "id": "a5ddbd38"
      },
      "source": [
        "## 3. 직접 단어 개수를 설정해서 사용"
      ],
      "id": "a5ddbd38"
    },
    {
      "cell_type": "markdown",
      "metadata": {
        "id": "d015f86a"
      },
      "source": [
        "### 3-1 n_words = 3000"
      ],
      "id": "d015f86a"
    },
    {
      "cell_type": "code",
      "execution_count": 66,
      "metadata": {
        "id": "2b68e5b6"
      },
      "outputs": [],
      "source": [
        "(x_train, y_train), (x_test, y_test) = reuters.load_data(num_words=3000, test_split=0.2)"
      ],
      "id": "2b68e5b6"
    },
    {
      "cell_type": "code",
      "execution_count": 67,
      "metadata": {
        "id": "56082e02"
      },
      "outputs": [],
      "source": [
        "word_index = reuters.get_word_index(path=\"reuters_word_index.json\")"
      ],
      "id": "56082e02"
    },
    {
      "cell_type": "code",
      "execution_count": 68,
      "metadata": {
        "id": "a6598314"
      },
      "outputs": [],
      "source": [
        "index_to_word = { index+3 : word for word, index in word_index.items() }"
      ],
      "id": "a6598314"
    },
    {
      "cell_type": "code",
      "execution_count": 69,
      "metadata": {
        "id": "1dcb3791"
      },
      "outputs": [],
      "source": [
        "for index, token in enumerate((\"<pad>\", \"<sos>\", \"<unk>\")):\n",
        "  index_to_word[index]=token"
      ],
      "id": "1dcb3791"
    },
    {
      "cell_type": "code",
      "execution_count": 70,
      "metadata": {
        "id": "d84f2389",
        "colab": {
          "base_uri": "https://localhost:8080/"
        },
        "outputId": "d18fef8f-a54e-44d6-a5f1-87510aaf5f4c"
      },
      "outputs": [
        {
          "output_type": "stream",
          "name": "stdout",
          "text": [
            "<sos> <unk> <unk> said as a result of its december acquisition of <unk> co it expects earnings per share in 1987 of 1 15 to 1 30 dlrs per share up from 70 cts in 1986 the company said pretax net should rise to nine to 10 mln dlrs from six mln dlrs in 1986 and <unk> operation revenues to 19 to 22 mln dlrs from 12 5 mln dlrs it said cash flow per share this year should be 2 50 to three dlrs reuter 3\n"
          ]
        }
      ],
      "source": [
        "print(' '.join([index_to_word[index] for index in x_train[0]]))"
      ],
      "id": "d84f2389"
    },
    {
      "cell_type": "code",
      "execution_count": 71,
      "metadata": {
        "id": "94e34693",
        "colab": {
          "base_uri": "https://localhost:8080/"
        },
        "outputId": "7b50640d-11b3-488b-8e2c-4d661cd82eab"
      },
      "outputs": [
        {
          "output_type": "stream",
          "name": "stdout",
          "text": [
            "8982\n"
          ]
        }
      ],
      "source": [
        "decoded = []\n",
        "for i in range(len(x_train)):\n",
        "    t = ' '.join([index_to_word[index] for index in x_train[i]])\n",
        "    decoded.append(t)\n",
        "\n",
        "x_train = decoded\n",
        "print(len(x_train))"
      ],
      "id": "94e34693"
    },
    {
      "cell_type": "code",
      "execution_count": 72,
      "metadata": {
        "id": "041f0d31",
        "colab": {
          "base_uri": "https://localhost:8080/"
        },
        "outputId": "c77c9a2c-1d9a-4c98-8535-7f199ae07636"
      },
      "outputs": [
        {
          "output_type": "stream",
          "name": "stdout",
          "text": [
            "2246\n"
          ]
        }
      ],
      "source": [
        "decoded = []\n",
        "for i in range(len(x_test)):\n",
        "    t = ' '.join([index_to_word[index] for index in x_test[i]])\n",
        "    decoded.append(t)\n",
        "\n",
        "x_test = decoded\n",
        "print(len(x_test))"
      ],
      "id": "041f0d31"
    },
    {
      "cell_type": "code",
      "execution_count": 73,
      "metadata": {
        "id": "127c7ea7",
        "colab": {
          "base_uri": "https://localhost:8080/"
        },
        "outputId": "a96b52e3-edb4-40ac-a6d5-66b96ae10ae6"
      },
      "outputs": [
        {
          "output_type": "execute_result",
          "data": {
            "text/plain": [
              "['<sos> <unk> <unk> said as a result of its december acquisition of <unk> co it expects earnings per share in 1987 of 1 15 to 1 30 dlrs per share up from 70 cts in 1986 the company said pretax net should rise to nine to 10 mln dlrs from six mln dlrs in 1986 and <unk> operation revenues to 19 to 22 mln dlrs from 12 5 mln dlrs it said cash flow per share this year should be 2 50 to three dlrs reuter 3']"
            ]
          },
          "metadata": {},
          "execution_count": 73
        }
      ],
      "source": [
        "x_train[:1]"
      ],
      "id": "127c7ea7"
    },
    {
      "cell_type": "code",
      "execution_count": 74,
      "metadata": {
        "id": "58f2e1bb",
        "colab": {
          "base_uri": "https://localhost:8080/"
        },
        "outputId": "3d4d9cdf-d72c-4052-edb2-8ba4b8e6a85f"
      },
      "outputs": [
        {
          "output_type": "execute_result",
          "data": {
            "text/plain": [
              "['<sos> the great atlantic and pacific <unk> co said its three year <unk> mln dlr capital program will be be substantially increased to <unk> growth and expansion plans for <unk> inc and <unk> inc over the next two years a and p said the acquisition of <unk> in august 1986 and <unk> in december helped us achieve better than expected results in the fourth quarter ended february 28 its net income from continuing operations <unk> 52 6 pct to 20 7 mln dlrs or 55 cts a share in the latest quarter as sales increased 48 3 pct to 1 58 billion dlrs a and p gave no details on the expanded capital program but it did say it completed the first year of the program during 1986 a and p is 52 4 pct owned by lt <unk> <unk> of west germany reuter 3']"
            ]
          },
          "metadata": {},
          "execution_count": 74
        }
      ],
      "source": [
        "x_test[:1]"
      ],
      "id": "58f2e1bb"
    },
    {
      "cell_type": "code",
      "execution_count": 75,
      "metadata": {
        "id": "774feb43"
      },
      "outputs": [],
      "source": [
        "from sklearn.feature_extraction.text import CountVectorizer\n",
        "from sklearn.feature_extraction.text import TfidfTransformer"
      ],
      "id": "774feb43"
    },
    {
      "cell_type": "code",
      "execution_count": 76,
      "metadata": {
        "id": "a0666500",
        "colab": {
          "base_uri": "https://localhost:8080/"
        },
        "outputId": "a9a13855-9179-4469-ed74-b2481c417d32"
      },
      "outputs": [
        {
          "output_type": "stream",
          "name": "stdout",
          "text": [
            "(8982, 2919)\n"
          ]
        }
      ],
      "source": [
        "dtmvector = CountVectorizer()\n",
        "x_train_dtm = dtmvector.fit_transform(x_train)\n",
        "print(x_train_dtm.shape)"
      ],
      "id": "a0666500"
    },
    {
      "cell_type": "code",
      "execution_count": 77,
      "metadata": {
        "id": "65fa9e6d",
        "colab": {
          "base_uri": "https://localhost:8080/"
        },
        "outputId": "9885f85d-2eb5-4f0b-e126-253f151e9783"
      },
      "outputs": [
        {
          "output_type": "stream",
          "name": "stdout",
          "text": [
            "(8982, 2919)\n"
          ]
        }
      ],
      "source": [
        "tfidf_transformer = TfidfTransformer()\n",
        "tfidfv = tfidf_transformer.fit_transform(x_train_dtm)\n",
        "print(tfidfv.shape)"
      ],
      "id": "65fa9e6d"
    },
    {
      "cell_type": "code",
      "execution_count": 78,
      "metadata": {
        "id": "0637ba39"
      },
      "outputs": [],
      "source": [
        "x_test_dtm = dtmvector.transform(x_test) #테스트 데이터를 DTM으로 변환\n",
        "tfidfv_test = tfidf_transformer.transform(x_test_dtm) #DTM을 TF-IDF 행렬로 변환"
      ],
      "id": "0637ba39"
    },
    {
      "cell_type": "markdown",
      "metadata": {
        "id": "86fbe8cf"
      },
      "source": [
        "### 1) Naive Bayes Classifier(NB)"
      ],
      "id": "86fbe8cf"
    },
    {
      "cell_type": "code",
      "execution_count": 79,
      "metadata": {
        "id": "8366a7ac",
        "colab": {
          "base_uri": "https://localhost:8080/"
        },
        "outputId": "4aeeaefe-48bb-4b27-b418-2f8b82a85c62"
      },
      "outputs": [
        {
          "output_type": "execute_result",
          "data": {
            "text/plain": [
              "MultinomialNB()"
            ]
          },
          "metadata": {},
          "execution_count": 79
        }
      ],
      "source": [
        "model = MultinomialNB()\n",
        "model.fit(tfidfv, y_train)"
      ],
      "id": "8366a7ac"
    },
    {
      "cell_type": "code",
      "execution_count": 80,
      "metadata": {
        "id": "4100c8b2",
        "colab": {
          "base_uri": "https://localhost:8080/"
        },
        "outputId": "32a64a8e-327c-4914-f277-8bb6ede9cd62"
      },
      "outputs": [
        {
          "output_type": "stream",
          "name": "stdout",
          "text": [
            "정확도: 0.6874443455031166\n"
          ]
        }
      ],
      "source": [
        "predicted = model.predict(tfidfv_test) #테스트 데이터에 대한 예측값을 얻어 정확도 측정\n",
        "print(\"정확도:\", accuracy_score(y_test, predicted)) #예측값과 실제값 비교"
      ],
      "id": "4100c8b2"
    },
    {
      "cell_type": "markdown",
      "metadata": {
        "id": "5a2e1c03"
      },
      "source": [
        "### 2) Complement Naive Bayes Classifier(CNB)"
      ],
      "id": "5a2e1c03"
    },
    {
      "cell_type": "code",
      "execution_count": 81,
      "metadata": {
        "id": "7514688b",
        "colab": {
          "base_uri": "https://localhost:8080/"
        },
        "outputId": "e10f04bf-a31a-4040-9c75-b69b5cc8174a"
      },
      "outputs": [
        {
          "output_type": "execute_result",
          "data": {
            "text/plain": [
              "ComplementNB()"
            ]
          },
          "metadata": {},
          "execution_count": 81
        }
      ],
      "source": [
        "cb = ComplementNB()\n",
        "cb.fit(tfidfv, y_train)"
      ],
      "id": "7514688b"
    },
    {
      "cell_type": "code",
      "execution_count": 82,
      "metadata": {
        "id": "72a29c4b",
        "colab": {
          "base_uri": "https://localhost:8080/"
        },
        "outputId": "724da9eb-225b-4979-ae09-1360111ae950"
      },
      "outputs": [
        {
          "output_type": "stream",
          "name": "stdout",
          "text": [
            "정확도: 0.7644701691896705\n"
          ]
        }
      ],
      "source": [
        "predicted = cb.predict(tfidfv_test) #테스트 데이터에 대한 예측\n",
        "print(\"정확도:\", accuracy_score(y_test, predicted)) #예측값과 실제값 비교"
      ],
      "id": "72a29c4b"
    },
    {
      "cell_type": "markdown",
      "metadata": {
        "id": "a26dbf68"
      },
      "source": [
        "### 3) 로지스틱 회귀(Logistic Regression)"
      ],
      "id": "a26dbf68"
    },
    {
      "cell_type": "code",
      "execution_count": 83,
      "metadata": {
        "id": "bdc23bf4",
        "colab": {
          "base_uri": "https://localhost:8080/"
        },
        "outputId": "543a733a-b01e-428f-9409-2761af6fa53b"
      },
      "outputs": [
        {
          "output_type": "stream",
          "name": "stderr",
          "text": [
            "/usr/local/lib/python3.7/dist-packages/sklearn/linear_model/_logistic.py:818: ConvergenceWarning: lbfgs failed to converge (status=1):\n",
            "STOP: TOTAL NO. of ITERATIONS REACHED LIMIT.\n",
            "\n",
            "Increase the number of iterations (max_iter) or scale the data as shown in:\n",
            "    https://scikit-learn.org/stable/modules/preprocessing.html\n",
            "Please also refer to the documentation for alternative solver options:\n",
            "    https://scikit-learn.org/stable/modules/linear_model.html#logistic-regression\n",
            "  extra_warning_msg=_LOGISTIC_SOLVER_CONVERGENCE_MSG,\n"
          ]
        },
        {
          "output_type": "execute_result",
          "data": {
            "text/plain": [
              "LogisticRegression(C=10000)"
            ]
          },
          "metadata": {},
          "execution_count": 83
        }
      ],
      "source": [
        "lr = LogisticRegression(C=10000, penalty='l2')\n",
        "lr.fit(tfidfv, y_train)"
      ],
      "id": "bdc23bf4"
    },
    {
      "cell_type": "code",
      "execution_count": 84,
      "metadata": {
        "id": "a870cbbd",
        "colab": {
          "base_uri": "https://localhost:8080/"
        },
        "outputId": "5da55380-7e69-451c-ee92-21c873f9f6a8"
      },
      "outputs": [
        {
          "output_type": "stream",
          "name": "stdout",
          "text": [
            "정확도: 0.794746215494212\n"
          ]
        }
      ],
      "source": [
        "predicted = lr.predict(tfidfv_test) #테스트 데이터에 대한 예측\n",
        "print(\"정확도:\", accuracy_score(y_test, predicted)) #예측값과 실제값 비교"
      ],
      "id": "a870cbbd"
    },
    {
      "cell_type": "markdown",
      "metadata": {
        "id": "856f83e9"
      },
      "source": [
        "### 4) 선형 서포트 벡터 머신(Linear Support Vector Machine)"
      ],
      "id": "856f83e9"
    },
    {
      "cell_type": "code",
      "execution_count": 85,
      "metadata": {
        "id": "318a7205",
        "colab": {
          "base_uri": "https://localhost:8080/"
        },
        "outputId": "a9f5757c-8f20-4b47-e313-6f9721cd83b0"
      },
      "outputs": [
        {
          "output_type": "stream",
          "name": "stderr",
          "text": [
            "/usr/local/lib/python3.7/dist-packages/sklearn/svm/_base.py:1208: ConvergenceWarning: Liblinear failed to converge, increase the number of iterations.\n",
            "  ConvergenceWarning,\n"
          ]
        },
        {
          "output_type": "execute_result",
          "data": {
            "text/plain": [
              "LinearSVC(C=1000, dual=False, max_iter=500, penalty='l1')"
            ]
          },
          "metadata": {},
          "execution_count": 85
        }
      ],
      "source": [
        "lsvc = LinearSVC(C=1000, penalty='l1', max_iter=500, dual=False)\n",
        "lsvc.fit(tfidfv, y_train)"
      ],
      "id": "318a7205"
    },
    {
      "cell_type": "code",
      "execution_count": 86,
      "metadata": {
        "id": "7a500a75",
        "colab": {
          "base_uri": "https://localhost:8080/"
        },
        "outputId": "165e6e62-f404-45b6-da8a-6dc6de9a40cd"
      },
      "outputs": [
        {
          "output_type": "stream",
          "name": "stdout",
          "text": [
            "정확도: 0.7524487978628673\n"
          ]
        }
      ],
      "source": [
        "predicted = lsvc.predict(tfidfv_test) #테스트 데이터에 대한 예측\n",
        "print(\"정확도:\", accuracy_score(y_test, predicted)) #예측값과 실제값 비교"
      ],
      "id": "7a500a75"
    },
    {
      "cell_type": "markdown",
      "metadata": {
        "id": "829a81d2"
      },
      "source": [
        "### 5) 의사 결정 트리(Decision Tree)"
      ],
      "id": "829a81d2"
    },
    {
      "cell_type": "code",
      "execution_count": 87,
      "metadata": {
        "id": "61a8adb8",
        "colab": {
          "base_uri": "https://localhost:8080/"
        },
        "outputId": "94809e7b-e3e5-461e-e5a3-526677da3b0d"
      },
      "outputs": [
        {
          "output_type": "execute_result",
          "data": {
            "text/plain": [
              "DecisionTreeClassifier(max_depth=10, random_state=0)"
            ]
          },
          "metadata": {},
          "execution_count": 87
        }
      ],
      "source": [
        "tree = DecisionTreeClassifier(max_depth=10, random_state=0)\n",
        "tree.fit(tfidfv, y_train)"
      ],
      "id": "61a8adb8"
    },
    {
      "cell_type": "code",
      "execution_count": 88,
      "metadata": {
        "id": "5d137906",
        "colab": {
          "base_uri": "https://localhost:8080/"
        },
        "outputId": "4d54aa4e-8f39-4f32-b6b9-cbb85cb28d7d"
      },
      "outputs": [
        {
          "output_type": "stream",
          "name": "stdout",
          "text": [
            "정확도: 0.6260017809439002\n"
          ]
        }
      ],
      "source": [
        "predicted = tree.predict(tfidfv_test) #테스트 데이터에 대한 예측\n",
        "print(\"정확도:\", accuracy_score(y_test, predicted)) #예측값과 실제값 비교"
      ],
      "id": "5d137906"
    },
    {
      "cell_type": "markdown",
      "metadata": {
        "id": "f639b7ad"
      },
      "source": [
        "### 6) 랜덤 포레스트(Random Forest)"
      ],
      "id": "f639b7ad"
    },
    {
      "cell_type": "code",
      "execution_count": 89,
      "metadata": {
        "id": "714110a9",
        "colab": {
          "base_uri": "https://localhost:8080/"
        },
        "outputId": "9a277f5a-6bbd-43f7-de9d-85a94f944b77"
      },
      "outputs": [
        {
          "output_type": "execute_result",
          "data": {
            "text/plain": [
              "RandomForestClassifier(n_estimators=5, random_state=0)"
            ]
          },
          "metadata": {},
          "execution_count": 89
        }
      ],
      "source": [
        "forest = RandomForestClassifier(n_estimators=5, random_state=0)\n",
        "forest.fit(tfidfv, y_train)"
      ],
      "id": "714110a9"
    },
    {
      "cell_type": "code",
      "execution_count": 90,
      "metadata": {
        "id": "48f0c1c2",
        "colab": {
          "base_uri": "https://localhost:8080/"
        },
        "outputId": "6c63f87d-f68e-4151-bf35-df0126d7d9a3"
      },
      "outputs": [
        {
          "output_type": "stream",
          "name": "stdout",
          "text": [
            "정확도: 0.6856634016028496\n"
          ]
        }
      ],
      "source": [
        "predicted = forest.predict(tfidfv_test) #테스트 데이터에 대한 예측\n",
        "print(\"정확도:\", accuracy_score(y_test, predicted)) #예측값과 실제값 비교"
      ],
      "id": "48f0c1c2"
    },
    {
      "cell_type": "markdown",
      "metadata": {
        "id": "01769c12"
      },
      "source": [
        "### 3-2 n_words = 1000"
      ],
      "id": "01769c12"
    },
    {
      "cell_type": "code",
      "execution_count": 91,
      "metadata": {
        "id": "7dab19dc"
      },
      "outputs": [],
      "source": [
        "(x_train, y_train), (x_test, y_test) = reuters.load_data(num_words=1000, test_split=0.2)"
      ],
      "id": "7dab19dc"
    },
    {
      "cell_type": "code",
      "execution_count": 92,
      "metadata": {
        "id": "02bc00cb"
      },
      "outputs": [],
      "source": [
        "word_index = reuters.get_word_index(path=\"reuters_word_index.json\")"
      ],
      "id": "02bc00cb"
    },
    {
      "cell_type": "code",
      "execution_count": 93,
      "metadata": {
        "id": "917885da"
      },
      "outputs": [],
      "source": [
        "index_to_word = { index+3 : word for word, index in word_index.items() }"
      ],
      "id": "917885da"
    },
    {
      "cell_type": "code",
      "execution_count": 94,
      "metadata": {
        "id": "68d6691f"
      },
      "outputs": [],
      "source": [
        "for index, token in enumerate((\"<pad>\", \"<sos>\", \"<unk>\")):\n",
        "  index_to_word[index]=token"
      ],
      "id": "68d6691f"
    },
    {
      "cell_type": "code",
      "execution_count": 95,
      "metadata": {
        "id": "8ab8eca6",
        "colab": {
          "base_uri": "https://localhost:8080/"
        },
        "outputId": "f5294fc8-1eb5-4bc1-9b28-a772b1c0e6aa"
      },
      "outputs": [
        {
          "output_type": "stream",
          "name": "stdout",
          "text": [
            "<sos> <unk> <unk> said as a result of its december acquisition of <unk> co it expects earnings per share in 1987 of 1 15 to 1 30 dlrs per share up from 70 cts in 1986 the company said pretax net should rise to nine to 10 mln dlrs from six mln dlrs in 1986 and <unk> <unk> revenues to 19 to 22 mln dlrs from 12 5 mln dlrs it said cash <unk> per share this year should be 2 50 to three dlrs reuter 3\n"
          ]
        }
      ],
      "source": [
        "print(' '.join([index_to_word[index] for index in x_train[0]]))"
      ],
      "id": "8ab8eca6"
    },
    {
      "cell_type": "code",
      "execution_count": 96,
      "metadata": {
        "id": "2d3316a8",
        "colab": {
          "base_uri": "https://localhost:8080/"
        },
        "outputId": "0ab5d20f-1cae-48c1-dc6b-2e5b9206a05e"
      },
      "outputs": [
        {
          "output_type": "stream",
          "name": "stdout",
          "text": [
            "8982\n"
          ]
        }
      ],
      "source": [
        "decoded = []\n",
        "for i in range(len(x_train)):\n",
        "    t = ' '.join([index_to_word[index] for index in x_train[i]])\n",
        "    decoded.append(t)\n",
        "\n",
        "x_train = decoded\n",
        "print(len(x_train))"
      ],
      "id": "2d3316a8"
    },
    {
      "cell_type": "code",
      "execution_count": 97,
      "metadata": {
        "id": "dd9952a8",
        "colab": {
          "base_uri": "https://localhost:8080/"
        },
        "outputId": "0e0b157d-75ca-4f7d-d7d8-f551403d6a1a"
      },
      "outputs": [
        {
          "output_type": "stream",
          "name": "stdout",
          "text": [
            "2246\n"
          ]
        }
      ],
      "source": [
        "decoded = []\n",
        "for i in range(len(x_test)):\n",
        "    t = ' '.join([index_to_word[index] for index in x_test[i]])\n",
        "    decoded.append(t)\n",
        "\n",
        "x_test = decoded\n",
        "print(len(x_test))"
      ],
      "id": "dd9952a8"
    },
    {
      "cell_type": "code",
      "execution_count": 98,
      "metadata": {
        "id": "16b8bfff",
        "colab": {
          "base_uri": "https://localhost:8080/"
        },
        "outputId": "c38e7df7-6196-4868-f810-71db49eac37e"
      },
      "outputs": [
        {
          "output_type": "execute_result",
          "data": {
            "text/plain": [
              "['<sos> <unk> <unk> said as a result of its december acquisition of <unk> co it expects earnings per share in 1987 of 1 15 to 1 30 dlrs per share up from 70 cts in 1986 the company said pretax net should rise to nine to 10 mln dlrs from six mln dlrs in 1986 and <unk> <unk> revenues to 19 to 22 mln dlrs from 12 5 mln dlrs it said cash <unk> per share this year should be 2 50 to three dlrs reuter 3']"
            ]
          },
          "metadata": {},
          "execution_count": 98
        }
      ],
      "source": [
        "x_train[:1]"
      ],
      "id": "16b8bfff"
    },
    {
      "cell_type": "code",
      "execution_count": 99,
      "metadata": {
        "id": "88fcf186",
        "colab": {
          "base_uri": "https://localhost:8080/"
        },
        "outputId": "ef5bdc98-05ed-46cd-edde-886d4442f9db"
      },
      "outputs": [
        {
          "output_type": "execute_result",
          "data": {
            "text/plain": [
              "['<sos> the <unk> <unk> and pacific <unk> co said its three year <unk> mln dlr capital program will be be <unk> increased to <unk> growth and <unk> plans for <unk> inc and <unk> inc over the next two years a and <unk> said the acquisition of <unk> in august 1986 and <unk> in december <unk> us <unk> better than expected results in the fourth quarter ended february 28 its net income from continuing operations <unk> 52 6 pct to 20 7 mln dlrs or 55 cts a share in the latest quarter as sales increased 48 3 pct to 1 58 billion dlrs a and <unk> gave no details on the <unk> capital program but it did say it completed the first year of the program during 1986 a and <unk> is 52 4 pct owned by lt <unk> <unk> of west germany reuter 3']"
            ]
          },
          "metadata": {},
          "execution_count": 99
        }
      ],
      "source": [
        "x_test[:1]"
      ],
      "id": "88fcf186"
    },
    {
      "cell_type": "code",
      "execution_count": 100,
      "metadata": {
        "id": "00accb30"
      },
      "outputs": [],
      "source": [
        "from sklearn.feature_extraction.text import CountVectorizer\n",
        "from sklearn.feature_extraction.text import TfidfTransformer"
      ],
      "id": "00accb30"
    },
    {
      "cell_type": "code",
      "execution_count": 101,
      "metadata": {
        "id": "dc12959a",
        "colab": {
          "base_uri": "https://localhost:8080/"
        },
        "outputId": "5e3232d0-66dd-4721-d53a-89a3b6557611"
      },
      "outputs": [
        {
          "output_type": "stream",
          "name": "stdout",
          "text": [
            "(8982, 969)\n"
          ]
        }
      ],
      "source": [
        "dtmvector = CountVectorizer()\n",
        "x_train_dtm = dtmvector.fit_transform(x_train)\n",
        "print(x_train_dtm.shape)"
      ],
      "id": "dc12959a"
    },
    {
      "cell_type": "code",
      "execution_count": 102,
      "metadata": {
        "id": "9f130911",
        "colab": {
          "base_uri": "https://localhost:8080/"
        },
        "outputId": "7b09b39b-a5c8-4ad7-923e-ddad741993be"
      },
      "outputs": [
        {
          "output_type": "stream",
          "name": "stdout",
          "text": [
            "(8982, 969)\n"
          ]
        }
      ],
      "source": [
        "tfidf_transformer = TfidfTransformer()\n",
        "tfidfv = tfidf_transformer.fit_transform(x_train_dtm)\n",
        "print(tfidfv.shape)"
      ],
      "id": "9f130911"
    },
    {
      "cell_type": "code",
      "execution_count": 103,
      "metadata": {
        "id": "96601522"
      },
      "outputs": [],
      "source": [
        "x_test_dtm = dtmvector.transform(x_test) #테스트 데이터를 DTM으로 변환\n",
        "tfidfv_test = tfidf_transformer.transform(x_test_dtm) #DTM을 TF-IDF 행렬로 변환"
      ],
      "id": "96601522"
    },
    {
      "cell_type": "markdown",
      "metadata": {
        "id": "bb263ef1"
      },
      "source": [
        "### 1) Naive Bayes Classifier(NB)"
      ],
      "id": "bb263ef1"
    },
    {
      "cell_type": "code",
      "execution_count": 104,
      "metadata": {
        "id": "78919f52",
        "colab": {
          "base_uri": "https://localhost:8080/"
        },
        "outputId": "58543f27-f19d-48b1-f477-c66af4af58a0"
      },
      "outputs": [
        {
          "output_type": "execute_result",
          "data": {
            "text/plain": [
              "MultinomialNB()"
            ]
          },
          "metadata": {},
          "execution_count": 104
        }
      ],
      "source": [
        "model = MultinomialNB()\n",
        "model.fit(tfidfv, y_train)"
      ],
      "id": "78919f52"
    },
    {
      "cell_type": "code",
      "execution_count": 105,
      "metadata": {
        "id": "e4d461bb",
        "colab": {
          "base_uri": "https://localhost:8080/"
        },
        "outputId": "dacc9bd5-8692-424c-ddd6-b35fbec8b4e7"
      },
      "outputs": [
        {
          "output_type": "stream",
          "name": "stdout",
          "text": [
            "정확도: 0.6856634016028496\n"
          ]
        }
      ],
      "source": [
        "predicted = model.predict(tfidfv_test) #테스트 데이터에 대한 예측값을 얻어 정확도 측정\n",
        "print(\"정확도:\", accuracy_score(y_test, predicted)) #예측값과 실제값 비교"
      ],
      "id": "e4d461bb"
    },
    {
      "cell_type": "markdown",
      "metadata": {
        "id": "3fdc75d8"
      },
      "source": [
        "### 2) Complement Naive Bayes Classifier(CNB)"
      ],
      "id": "3fdc75d8"
    },
    {
      "cell_type": "code",
      "execution_count": 106,
      "metadata": {
        "id": "a53368a1",
        "colab": {
          "base_uri": "https://localhost:8080/"
        },
        "outputId": "84eda278-319b-400e-8323-14d9f98e4dab"
      },
      "outputs": [
        {
          "output_type": "execute_result",
          "data": {
            "text/plain": [
              "ComplementNB()"
            ]
          },
          "metadata": {},
          "execution_count": 106
        }
      ],
      "source": [
        "cb = ComplementNB()\n",
        "cb.fit(tfidfv, y_train)"
      ],
      "id": "a53368a1"
    },
    {
      "cell_type": "code",
      "execution_count": 107,
      "metadata": {
        "id": "4a028dcd",
        "colab": {
          "base_uri": "https://localhost:8080/"
        },
        "outputId": "e6f95be2-a809-486b-fa2d-72e5ea82b22d"
      },
      "outputs": [
        {
          "output_type": "stream",
          "name": "stdout",
          "text": [
            "정확도: 0.7346393588601959\n"
          ]
        }
      ],
      "source": [
        "predicted = cb.predict(tfidfv_test) #테스트 데이터에 대한 예측\n",
        "print(\"정확도:\", accuracy_score(y_test, predicted)) #예측값과 실제값 비교"
      ],
      "id": "4a028dcd"
    },
    {
      "cell_type": "markdown",
      "metadata": {
        "id": "a8692575"
      },
      "source": [
        "### 3) 로지스틱 회귀(Logistic Regression)"
      ],
      "id": "a8692575"
    },
    {
      "cell_type": "code",
      "execution_count": 108,
      "metadata": {
        "id": "ffe53468",
        "colab": {
          "base_uri": "https://localhost:8080/"
        },
        "outputId": "83e2ca74-89a6-4d00-8f83-eaddbe0e7b3a"
      },
      "outputs": [
        {
          "output_type": "stream",
          "name": "stderr",
          "text": [
            "/usr/local/lib/python3.7/dist-packages/sklearn/linear_model/_logistic.py:818: ConvergenceWarning: lbfgs failed to converge (status=1):\n",
            "STOP: TOTAL NO. of ITERATIONS REACHED LIMIT.\n",
            "\n",
            "Increase the number of iterations (max_iter) or scale the data as shown in:\n",
            "    https://scikit-learn.org/stable/modules/preprocessing.html\n",
            "Please also refer to the documentation for alternative solver options:\n",
            "    https://scikit-learn.org/stable/modules/linear_model.html#logistic-regression\n",
            "  extra_warning_msg=_LOGISTIC_SOLVER_CONVERGENCE_MSG,\n"
          ]
        },
        {
          "output_type": "execute_result",
          "data": {
            "text/plain": [
              "LogisticRegression(C=10000)"
            ]
          },
          "metadata": {},
          "execution_count": 108
        }
      ],
      "source": [
        "lr = LogisticRegression(C=10000, penalty='l2')\n",
        "lr.fit(tfidfv, y_train)"
      ],
      "id": "ffe53468"
    },
    {
      "cell_type": "code",
      "execution_count": 109,
      "metadata": {
        "id": "7abc493a",
        "colab": {
          "base_uri": "https://localhost:8080/"
        },
        "outputId": "3edae9c6-e76d-4e87-ad36-cdf36ab37860"
      },
      "outputs": [
        {
          "output_type": "stream",
          "name": "stdout",
          "text": [
            "정확도: 0.780053428317008\n"
          ]
        }
      ],
      "source": [
        "predicted = lr.predict(tfidfv_test) #테스트 데이터에 대한 예측\n",
        "print(\"정확도:\", accuracy_score(y_test, predicted)) #예측값과 실제값 비교"
      ],
      "id": "7abc493a"
    },
    {
      "cell_type": "markdown",
      "metadata": {
        "id": "82133cb1"
      },
      "source": [
        "### 4) 선형 서포트 벡터 머신(Linear Support Vector Machine)"
      ],
      "id": "82133cb1"
    },
    {
      "cell_type": "code",
      "execution_count": 110,
      "metadata": {
        "id": "c077f201",
        "colab": {
          "base_uri": "https://localhost:8080/"
        },
        "outputId": "b5726702-5e4c-4df0-fe07-b27990b3ec2a"
      },
      "outputs": [
        {
          "output_type": "stream",
          "name": "stderr",
          "text": [
            "/usr/local/lib/python3.7/dist-packages/sklearn/svm/_base.py:1208: ConvergenceWarning: Liblinear failed to converge, increase the number of iterations.\n",
            "  ConvergenceWarning,\n"
          ]
        },
        {
          "output_type": "execute_result",
          "data": {
            "text/plain": [
              "LinearSVC(C=1000, dual=False, max_iter=500, penalty='l1')"
            ]
          },
          "metadata": {},
          "execution_count": 110
        }
      ],
      "source": [
        "lsvc = LinearSVC(C=1000, penalty='l1', max_iter=500, dual=False)\n",
        "lsvc.fit(tfidfv, y_train)"
      ],
      "id": "c077f201"
    },
    {
      "cell_type": "code",
      "execution_count": 111,
      "metadata": {
        "id": "b6a14f7a",
        "colab": {
          "base_uri": "https://localhost:8080/"
        },
        "outputId": "2b80b7ff-d96c-4f3b-b43f-b49534a7c8f9"
      },
      "outputs": [
        {
          "output_type": "stream",
          "name": "stdout",
          "text": [
            "정확도: 0.7181656277827249\n"
          ]
        }
      ],
      "source": [
        "predicted = lsvc.predict(tfidfv_test) #테스트 데이터에 대한 예측\n",
        "print(\"정확도:\", accuracy_score(y_test, predicted)) #예측값과 실제값 비교"
      ],
      "id": "b6a14f7a"
    },
    {
      "cell_type": "markdown",
      "metadata": {
        "id": "6947f8b2"
      },
      "source": [
        "### 5) 의사 결정 트리(Decision Tree)"
      ],
      "id": "6947f8b2"
    },
    {
      "cell_type": "code",
      "execution_count": 112,
      "metadata": {
        "id": "87d2af4a",
        "colab": {
          "base_uri": "https://localhost:8080/"
        },
        "outputId": "e107c0be-2b13-47ef-bc57-46819ac1abf9"
      },
      "outputs": [
        {
          "output_type": "execute_result",
          "data": {
            "text/plain": [
              "DecisionTreeClassifier(max_depth=10, random_state=0)"
            ]
          },
          "metadata": {},
          "execution_count": 112
        }
      ],
      "source": [
        "tree = DecisionTreeClassifier(max_depth=10, random_state=0)\n",
        "tree.fit(tfidfv, y_train)"
      ],
      "id": "87d2af4a"
    },
    {
      "cell_type": "code",
      "execution_count": 113,
      "metadata": {
        "id": "030f2dd1",
        "colab": {
          "base_uri": "https://localhost:8080/"
        },
        "outputId": "e7e4966a-34f1-4ff0-cfa1-450a03e1dede"
      },
      "outputs": [
        {
          "output_type": "stream",
          "name": "stdout",
          "text": [
            "정확도: 0.6179875333926982\n"
          ]
        }
      ],
      "source": [
        "predicted = tree.predict(tfidfv_test) #테스트 데이터에 대한 예측\n",
        "print(\"정확도:\", accuracy_score(y_test, predicted)) #예측값과 실제값 비교"
      ],
      "id": "030f2dd1"
    },
    {
      "cell_type": "markdown",
      "metadata": {
        "id": "cca829fa"
      },
      "source": [
        "### 6) 랜덤 포레스트(Random Forest)"
      ],
      "id": "cca829fa"
    },
    {
      "cell_type": "code",
      "execution_count": 114,
      "metadata": {
        "id": "e4c1922c",
        "colab": {
          "base_uri": "https://localhost:8080/"
        },
        "outputId": "9b38d3e2-9c56-4369-f8b7-ed0fb5f3b9b0"
      },
      "outputs": [
        {
          "output_type": "execute_result",
          "data": {
            "text/plain": [
              "RandomForestClassifier(n_estimators=5, random_state=0)"
            ]
          },
          "metadata": {},
          "execution_count": 114
        }
      ],
      "source": [
        "forest = RandomForestClassifier(n_estimators=5, random_state=0)\n",
        "forest.fit(tfidfv, y_train)"
      ],
      "id": "e4c1922c"
    },
    {
      "cell_type": "code",
      "execution_count": 115,
      "metadata": {
        "id": "b3f4dcac",
        "colab": {
          "base_uri": "https://localhost:8080/"
        },
        "outputId": "5633a88d-1ea2-4334-b857-9909246e52ab"
      },
      "outputs": [
        {
          "output_type": "stream",
          "name": "stdout",
          "text": [
            "정확도: 0.707479964381122\n"
          ]
        }
      ],
      "source": [
        "predicted = forest.predict(tfidfv_test) #테스트 데이터에 대한 예측\n",
        "print(\"정확도:\", accuracy_score(y_test, predicted)) #예측값과 실제값 비교"
      ],
      "id": "b3f4dcac"
    },
    {
      "cell_type": "markdown",
      "metadata": {
        "id": "bb334c97"
      },
      "source": [
        "### 3-3 n_words = 8000"
      ],
      "id": "bb334c97"
    },
    {
      "cell_type": "code",
      "execution_count": 116,
      "metadata": {
        "id": "3d74a095"
      },
      "outputs": [],
      "source": [
        "(x_train, y_train), (x_test, y_test) = reuters.load_data(num_words=8000, test_split=0.2)"
      ],
      "id": "3d74a095"
    },
    {
      "cell_type": "code",
      "execution_count": 117,
      "metadata": {
        "id": "47b4619e"
      },
      "outputs": [],
      "source": [
        "word_index = reuters.get_word_index(path=\"reuters_word_index.json\")"
      ],
      "id": "47b4619e"
    },
    {
      "cell_type": "code",
      "execution_count": 118,
      "metadata": {
        "id": "b84542b0"
      },
      "outputs": [],
      "source": [
        "index_to_word = { index+3 : word for word, index in word_index.items() }"
      ],
      "id": "b84542b0"
    },
    {
      "cell_type": "code",
      "execution_count": 119,
      "metadata": {
        "id": "d4a79478"
      },
      "outputs": [],
      "source": [
        "for index, token in enumerate((\"<pad>\", \"<sos>\", \"<unk>\")):\n",
        "  index_to_word[index]=token"
      ],
      "id": "d4a79478"
    },
    {
      "cell_type": "code",
      "execution_count": 120,
      "metadata": {
        "id": "059298a5",
        "colab": {
          "base_uri": "https://localhost:8080/"
        },
        "outputId": "fa9bc27d-e7dc-4c04-fbab-ee671220155f"
      },
      "outputs": [
        {
          "output_type": "stream",
          "name": "stdout",
          "text": [
            "<sos> <unk> <unk> said as a result of its december acquisition of space co it expects earnings per share in 1987 of 1 15 to 1 30 dlrs per share up from 70 cts in 1986 the company said pretax net should rise to nine to 10 mln dlrs from six mln dlrs in 1986 and rental operation revenues to 19 to 22 mln dlrs from 12 5 mln dlrs it said cash flow per share this year should be 2 50 to three dlrs reuter 3\n"
          ]
        }
      ],
      "source": [
        "print(' '.join([index_to_word[index] for index in x_train[0]]))"
      ],
      "id": "059298a5"
    },
    {
      "cell_type": "code",
      "execution_count": 121,
      "metadata": {
        "id": "d36cdef5",
        "colab": {
          "base_uri": "https://localhost:8080/"
        },
        "outputId": "f3d2306b-0ca3-4dd0-b772-28df6ab7dc09"
      },
      "outputs": [
        {
          "output_type": "stream",
          "name": "stdout",
          "text": [
            "8982\n"
          ]
        }
      ],
      "source": [
        "decoded = []\n",
        "for i in range(len(x_train)):\n",
        "    t = ' '.join([index_to_word[index] for index in x_train[i]])\n",
        "    decoded.append(t)\n",
        "\n",
        "x_train = decoded\n",
        "print(len(x_train))"
      ],
      "id": "d36cdef5"
    },
    {
      "cell_type": "code",
      "execution_count": 122,
      "metadata": {
        "id": "18c0ccb1",
        "colab": {
          "base_uri": "https://localhost:8080/"
        },
        "outputId": "fcc1b081-74d7-47aa-daea-6463361e88a3"
      },
      "outputs": [
        {
          "output_type": "stream",
          "name": "stdout",
          "text": [
            "2246\n"
          ]
        }
      ],
      "source": [
        "decoded = []\n",
        "for i in range(len(x_test)):\n",
        "    t = ' '.join([index_to_word[index] for index in x_test[i]])\n",
        "    decoded.append(t)\n",
        "\n",
        "x_test = decoded\n",
        "print(len(x_test))"
      ],
      "id": "18c0ccb1"
    },
    {
      "cell_type": "code",
      "execution_count": 123,
      "metadata": {
        "id": "9800c765",
        "colab": {
          "base_uri": "https://localhost:8080/"
        },
        "outputId": "d6713870-25ff-4ce7-bf4a-44f1b07d3d6b"
      },
      "outputs": [
        {
          "output_type": "execute_result",
          "data": {
            "text/plain": [
              "['<sos> <unk> <unk> said as a result of its december acquisition of space co it expects earnings per share in 1987 of 1 15 to 1 30 dlrs per share up from 70 cts in 1986 the company said pretax net should rise to nine to 10 mln dlrs from six mln dlrs in 1986 and rental operation revenues to 19 to 22 mln dlrs from 12 5 mln dlrs it said cash flow per share this year should be 2 50 to three dlrs reuter 3']"
            ]
          },
          "metadata": {},
          "execution_count": 123
        }
      ],
      "source": [
        "x_train[:1]"
      ],
      "id": "9800c765"
    },
    {
      "cell_type": "code",
      "execution_count": 124,
      "metadata": {
        "id": "0a3d23a5",
        "colab": {
          "base_uri": "https://localhost:8080/"
        },
        "outputId": "889fc0d6-3609-402c-b412-1d06a16d57bc"
      },
      "outputs": [
        {
          "output_type": "execute_result",
          "data": {
            "text/plain": [
              "['<sos> the great atlantic and pacific tea co said its three year 345 mln dlr capital program will be be substantially increased to <unk> growth and expansion plans for <unk> inc and <unk> inc over the next two years a and p said the acquisition of <unk> in august 1986 and <unk> in december helped us achieve better than expected results in the fourth quarter ended february 28 its net income from continuing operations jumped 52 6 pct to 20 7 mln dlrs or 55 cts a share in the latest quarter as sales increased 48 3 pct to 1 58 billion dlrs a and p gave no details on the expanded capital program but it did say it completed the first year of the program during 1986 a and p is 52 4 pct owned by lt <unk> <unk> of west germany reuter 3']"
            ]
          },
          "metadata": {},
          "execution_count": 124
        }
      ],
      "source": [
        "x_test[:1]"
      ],
      "id": "0a3d23a5"
    },
    {
      "cell_type": "code",
      "execution_count": 125,
      "metadata": {
        "id": "25591840"
      },
      "outputs": [],
      "source": [
        "from sklearn.feature_extraction.text import CountVectorizer\n",
        "from sklearn.feature_extraction.text import TfidfTransformer"
      ],
      "id": "25591840"
    },
    {
      "cell_type": "code",
      "execution_count": 126,
      "metadata": {
        "id": "5a93be8d",
        "colab": {
          "base_uri": "https://localhost:8080/"
        },
        "outputId": "3d8dea9c-0eac-449a-d92b-8db021350e9e"
      },
      "outputs": [
        {
          "output_type": "stream",
          "name": "stdout",
          "text": [
            "(8982, 7772)\n"
          ]
        }
      ],
      "source": [
        "dtmvector = CountVectorizer()\n",
        "x_train_dtm = dtmvector.fit_transform(x_train)\n",
        "print(x_train_dtm.shape)"
      ],
      "id": "5a93be8d"
    },
    {
      "cell_type": "code",
      "execution_count": 127,
      "metadata": {
        "id": "7fd4f552",
        "colab": {
          "base_uri": "https://localhost:8080/"
        },
        "outputId": "a23edd89-4860-450b-92bb-654a6f56164f"
      },
      "outputs": [
        {
          "output_type": "stream",
          "name": "stdout",
          "text": [
            "(8982, 7772)\n"
          ]
        }
      ],
      "source": [
        "tfidf_transformer = TfidfTransformer()\n",
        "tfidfv = tfidf_transformer.fit_transform(x_train_dtm)\n",
        "print(tfidfv.shape)"
      ],
      "id": "7fd4f552"
    },
    {
      "cell_type": "code",
      "execution_count": 128,
      "metadata": {
        "id": "3a9ca532"
      },
      "outputs": [],
      "source": [
        "x_test_dtm = dtmvector.transform(x_test) #테스트 데이터를 DTM으로 변환\n",
        "tfidfv_test = tfidf_transformer.transform(x_test_dtm) #DTM을 TF-IDF 행렬로 변환"
      ],
      "id": "3a9ca532"
    },
    {
      "cell_type": "markdown",
      "metadata": {
        "id": "74740d2a"
      },
      "source": [
        "### 1) Naive Bayes Classifier(NB)"
      ],
      "id": "74740d2a"
    },
    {
      "cell_type": "code",
      "execution_count": 129,
      "metadata": {
        "id": "04f94c8e",
        "colab": {
          "base_uri": "https://localhost:8080/"
        },
        "outputId": "69258ecf-73cf-45fe-fc86-b3ddf9d22b1d"
      },
      "outputs": [
        {
          "output_type": "execute_result",
          "data": {
            "text/plain": [
              "MultinomialNB()"
            ]
          },
          "metadata": {},
          "execution_count": 129
        }
      ],
      "source": [
        "model = MultinomialNB()\n",
        "model.fit(tfidfv, y_train)"
      ],
      "id": "04f94c8e"
    },
    {
      "cell_type": "code",
      "execution_count": 130,
      "metadata": {
        "id": "b7a2378f",
        "colab": {
          "base_uri": "https://localhost:8080/"
        },
        "outputId": "e2e3cbc0-3b16-44b9-bf7b-55db3884031c"
      },
      "outputs": [
        {
          "output_type": "stream",
          "name": "stdout",
          "text": [
            "정확도: 0.6625111308993766\n"
          ]
        }
      ],
      "source": [
        "predicted = model.predict(tfidfv_test) #테스트 데이터에 대한 예측값을 얻어 정확도 측정\n",
        "print(\"정확도:\", accuracy_score(y_test, predicted)) #예측값과 실제값 비교"
      ],
      "id": "b7a2378f"
    },
    {
      "cell_type": "markdown",
      "metadata": {
        "id": "4da2063c"
      },
      "source": [
        "### 2) Complement Naive Bayes Classifier(CNB)"
      ],
      "id": "4da2063c"
    },
    {
      "cell_type": "code",
      "execution_count": 131,
      "metadata": {
        "id": "9f88269c",
        "colab": {
          "base_uri": "https://localhost:8080/"
        },
        "outputId": "458bd52e-3c67-4964-e9e8-679c686750fb"
      },
      "outputs": [
        {
          "output_type": "execute_result",
          "data": {
            "text/plain": [
              "ComplementNB()"
            ]
          },
          "metadata": {},
          "execution_count": 131
        }
      ],
      "source": [
        "cb = ComplementNB()\n",
        "cb.fit(tfidfv, y_train)"
      ],
      "id": "9f88269c"
    },
    {
      "cell_type": "code",
      "execution_count": 132,
      "metadata": {
        "id": "bf58d045",
        "colab": {
          "base_uri": "https://localhost:8080/"
        },
        "outputId": "d65cf113-e095-435d-9a17-7d0fa58e10e7"
      },
      "outputs": [
        {
          "output_type": "stream",
          "name": "stdout",
          "text": [
            "정확도: 0.7707034728406055\n"
          ]
        }
      ],
      "source": [
        "predicted = cb.predict(tfidfv_test) #테스트 데이터에 대한 예측\n",
        "print(\"정확도:\", accuracy_score(y_test, predicted)) #예측값과 실제값 비교"
      ],
      "id": "bf58d045"
    },
    {
      "cell_type": "markdown",
      "metadata": {
        "id": "b95da807"
      },
      "source": [
        "### 3) 로지스틱 회귀(Logistic Regression)"
      ],
      "id": "b95da807"
    },
    {
      "cell_type": "code",
      "execution_count": 133,
      "metadata": {
        "id": "cefcabc8",
        "colab": {
          "base_uri": "https://localhost:8080/"
        },
        "outputId": "3f2e6a40-ac94-4e0f-e42d-aee2a2287300"
      },
      "outputs": [
        {
          "output_type": "stream",
          "name": "stderr",
          "text": [
            "/usr/local/lib/python3.7/dist-packages/sklearn/linear_model/_logistic.py:818: ConvergenceWarning: lbfgs failed to converge (status=1):\n",
            "STOP: TOTAL NO. of ITERATIONS REACHED LIMIT.\n",
            "\n",
            "Increase the number of iterations (max_iter) or scale the data as shown in:\n",
            "    https://scikit-learn.org/stable/modules/preprocessing.html\n",
            "Please also refer to the documentation for alternative solver options:\n",
            "    https://scikit-learn.org/stable/modules/linear_model.html#logistic-regression\n",
            "  extra_warning_msg=_LOGISTIC_SOLVER_CONVERGENCE_MSG,\n"
          ]
        },
        {
          "output_type": "execute_result",
          "data": {
            "text/plain": [
              "LogisticRegression(C=10000)"
            ]
          },
          "metadata": {},
          "execution_count": 133
        }
      ],
      "source": [
        "lr = LogisticRegression(C=10000, penalty='l2')  #학습이 과대적합 되는 것을 방지하고자 일종의 penalty를 부여 https://greatjoy.tistory.com/58\n",
        "lr.fit(tfidfv, y_train)"
      ],
      "id": "cefcabc8"
    },
    {
      "cell_type": "code",
      "execution_count": 134,
      "metadata": {
        "id": "eef93868",
        "colab": {
          "base_uri": "https://localhost:8080/"
        },
        "outputId": "a2827072-3b33-4c57-8437-518f262a0549"
      },
      "outputs": [
        {
          "output_type": "stream",
          "name": "stdout",
          "text": [
            "정확도: 0.8098842386464826\n"
          ]
        }
      ],
      "source": [
        "predicted = lr.predict(tfidfv_test) #테스트 데이터에 대한 예측\n",
        "print(\"정확도:\", accuracy_score(y_test, predicted)) #예측값과 실제값 비교"
      ],
      "id": "eef93868"
    },
    {
      "cell_type": "markdown",
      "metadata": {
        "id": "c1c55d2b"
      },
      "source": [
        "### 4) 선형 서포트 벡터 머신(Linear Support Vector Machine)"
      ],
      "id": "c1c55d2b"
    },
    {
      "cell_type": "code",
      "execution_count": 135,
      "metadata": {
        "id": "fdab5373",
        "colab": {
          "base_uri": "https://localhost:8080/"
        },
        "outputId": "dbbc290a-e402-4953-acdf-2b9db0c9ad08"
      },
      "outputs": [
        {
          "output_type": "stream",
          "name": "stderr",
          "text": [
            "/usr/local/lib/python3.7/dist-packages/sklearn/svm/_base.py:1208: ConvergenceWarning: Liblinear failed to converge, increase the number of iterations.\n",
            "  ConvergenceWarning,\n"
          ]
        },
        {
          "output_type": "execute_result",
          "data": {
            "text/plain": [
              "LinearSVC(C=1000, dual=False, max_iter=500, penalty='l1')"
            ]
          },
          "metadata": {},
          "execution_count": 135
        }
      ],
      "source": [
        "lsvc = LinearSVC(C=1000, penalty='l1', max_iter=500, dual=False)\n",
        "lsvc.fit(tfidfv, y_train)"
      ],
      "id": "fdab5373"
    },
    {
      "cell_type": "code",
      "execution_count": 136,
      "metadata": {
        "id": "6ba4f744",
        "colab": {
          "base_uri": "https://localhost:8080/"
        },
        "outputId": "395692b5-e485-44f1-ee16-c89b36a3aa39"
      },
      "outputs": [
        {
          "output_type": "stream",
          "name": "stdout",
          "text": [
            "정확도: 0.7689225289403384\n"
          ]
        }
      ],
      "source": [
        "predicted = lsvc.predict(tfidfv_test) #테스트 데이터에 대한 예측\n",
        "print(\"정확도:\", accuracy_score(y_test, predicted)) #예측값과 실제값 비교"
      ],
      "id": "6ba4f744"
    },
    {
      "cell_type": "markdown",
      "metadata": {
        "id": "5c0ca3a4"
      },
      "source": [
        "### 5) 의사 결정 트리(Decision Tree)"
      ],
      "id": "5c0ca3a4"
    },
    {
      "cell_type": "code",
      "execution_count": 137,
      "metadata": {
        "id": "324aa5b9",
        "colab": {
          "base_uri": "https://localhost:8080/"
        },
        "outputId": "11464832-5f79-400d-abaa-b6fd0821611f"
      },
      "outputs": [
        {
          "output_type": "execute_result",
          "data": {
            "text/plain": [
              "DecisionTreeClassifier(max_depth=10, random_state=0)"
            ]
          },
          "metadata": {},
          "execution_count": 137
        }
      ],
      "source": [
        "tree = DecisionTreeClassifier(max_depth=10, random_state=0)\n",
        "tree.fit(tfidfv, y_train)"
      ],
      "id": "324aa5b9"
    },
    {
      "cell_type": "code",
      "execution_count": 138,
      "metadata": {
        "id": "72d2e942",
        "colab": {
          "base_uri": "https://localhost:8080/"
        },
        "outputId": "b9e234a6-34a5-4346-ce13-c9bcd0df5a8f"
      },
      "outputs": [
        {
          "output_type": "stream",
          "name": "stdout",
          "text": [
            "정확도: 0.6206589492430988\n"
          ]
        }
      ],
      "source": [
        "predicted = tree.predict(tfidfv_test) #테스트 데이터에 대한 예측\n",
        "print(\"정확도:\", accuracy_score(y_test, predicted)) #예측값과 실제값 비교"
      ],
      "id": "72d2e942"
    },
    {
      "cell_type": "markdown",
      "metadata": {
        "id": "8c1c85c2"
      },
      "source": [
        "### 6) 랜덤 포레스트(Random Forest)"
      ],
      "id": "8c1c85c2"
    },
    {
      "cell_type": "code",
      "execution_count": 139,
      "metadata": {
        "id": "b37a7480",
        "colab": {
          "base_uri": "https://localhost:8080/"
        },
        "outputId": "a4476fa1-6af2-4c4e-a1ac-9673a54c49dd"
      },
      "outputs": [
        {
          "output_type": "execute_result",
          "data": {
            "text/plain": [
              "RandomForestClassifier(n_estimators=5, random_state=0)"
            ]
          },
          "metadata": {},
          "execution_count": 139
        }
      ],
      "source": [
        "forest = RandomForestClassifier(n_estimators=5, random_state=0)\n",
        "forest.fit(tfidfv, y_train)"
      ],
      "id": "b37a7480"
    },
    {
      "cell_type": "code",
      "execution_count": 140,
      "metadata": {
        "id": "9f44db53",
        "colab": {
          "base_uri": "https://localhost:8080/"
        },
        "outputId": "c42fa4ef-b37c-4981-e4db-29cc530e9903"
      },
      "outputs": [
        {
          "output_type": "stream",
          "name": "stdout",
          "text": [
            "정확도: 0.6669634906500446\n"
          ]
        }
      ],
      "source": [
        "predicted = forest.predict(tfidfv_test) #테스트 데이터에 대한 예측\n",
        "print(\"정확도:\", accuracy_score(y_test, predicted)) #예측값과 실제값 비교"
      ],
      "id": "9f44db53"
    },
    {
      "cell_type": "markdown",
      "metadata": {
        "id": "8e6fe94e"
      },
      "source": [
        "### 분류성능평가지표\n",
        "Precision(정밀도), Recall(재현율) and Accuracy(정확도)\n",
        "#### Precision(정밀도)\n",
        "- 정밀도란 모델이 True라고 분류한 것 중에서 실제 True인 것의 비율\n",
        "- Positive 정답률, PPV(Positive Predictive Value)라고도 불립니다.\n",
        "- 예를 들어, 날씨 예측 모델이 맑다로 예측했는데, 실제 날씨가 맑았는지를 살펴보는 지표\n",
        "\n",
        "#### Recall(재현율)\n",
        "- 재현율이란 실제 True인 것 중에서 모델이 True라고 예측한 것의 비율\n",
        "- 통계학에서는 sensitivity으로, 그리고 다른 분야에서는 hit rate라는 용어로도 사용\n",
        "- 정밀도(Precision)와 True Positive의 경우를 다르게 바라보는 것\n",
        "- 예를 들어, 실제 날씨가 맑은 날 중에서 모델이 맑다고 예측한 비율을 나타낸 지표\n",
        "- 실제 정답(data)의 입장에서 정답을 정답이라고 맞춘 경우를 바라보고 있음\n",
        "\n",
        "#### Precision-Recall Trade-off\n",
        "\n",
        "#### Accuracy(정확도)\n",
        "- True를 True라고 옳게 예측한 경우에 대해서만 다룸\n",
        "- False를 False라고 예측한 경우도 옳은 경우\n",
        "(이러한 경우를 다른 지표가 정확도(Accuracy))\n",
        "\n",
        "#### F1 score\n",
        "- F1 score는 Precision과 Recall의 조화평균\n",
        "- 데이터 label이 불균형 구조일 때, 모델의 성능을 정확하게 평가할 수 있고, 성능을 하나의 숫자로 표현할 수 있다\n",
        "\n",
        "### Confusion Matrix\n",
        "알고리즘 성능 평가에 사용\n",
        "- TP : True로 예측하고 실제 값도 True\n",
        "- TN : False로 예측하고 실제 값도 False\n",
        "- FP : True로 예측하고 실제는 False\n",
        "- FN : False로 예측하고 실제는 True\n",
        "\n",
        "\n",
        "- Accuarcy _ 전체 중 맞게 맞게 예측한 비율\n",
        "- Precision _ Positive에 속하는 것들 중 실제 Positvie 인것\n",
        "- Recall (sensitivty) _ 실제로 Positive인 것들 중 Positive로 예측한 비율\n",
        "- Specificity _ Negative에 속하는 것들 중 실제 Negative 인것\n",
        "- F1 Measure _ 위의 Precision과 Recall을 이용\n",
        "\n",
        "### 다양한 머신러닝 모델\n",
        "#### Complement Naive Bayes Classifier(CNB)\n",
        "데이터가 불균형할 경우를 대비해 나이브 베이즈 분류기를 보완한 것이 컴플리먼트 나이브 베이즈 분류기\n",
        "\n",
        "컴플리먼트 나이브 베이즈 분류기는 데이터의 불균형을 고려하여 가중치를 부여하는 특징을 가지고 있다\n",
        "#### 로지스틱 회귀(Logistic Regression)\n",
        "로지스틱 회귀는 소프트맥스(softmax) 함수를 사용한 다중 클래스 분류 알고리즘을 지원\n",
        "\n",
        "다중 클래스 분류를 위한 로지스틱 회귀를 소프트맥스 회귀(Softmax Regression)라고도 함\n",
        "\n",
        "주의할 점은 이름은 회귀지만, 실제로는 분류를 수행한다는 점\n",
        "#### 선형 서포트 벡터 머신(Linear Support Vector Machine)\n",
        "서포트 벡터 머신(SVM)은 대표적인 선형 분류 알고리즘\n",
        "\n",
        "- 서포트 벡터 머신에서 서포트 벡터란?\n",
        "Decision Boundary와 가장 가까운 각 클래스의 데이터를 서포트 벡터라고 한다\n",
        "\n",
        "주의! Decision Boundary에 해당되는 벡터가 아님\n",
        "#### 결정 트리(Decision Tree)\n",
        "결정 트리는 분류와 회귀 문제에 널리 사용하는 모델\n",
        "\n",
        "기본적으로 결정 트리는 결정에 다다르기 위해 '예/아니오' 질문을 이어 나가면서 학습 스무고개 놀이의 질문과 비슷\n",
        "#### 랜덤 포레스트(Random Forest)\n",
        "앙상블(Ensemble)이란 여러 머신러닝 모델을 연결하여 더 강력한 모델을 만드는 기법\n",
        "\n",
        "랜덤 포레스트와 그래디언트 부스팅 트리는 결정 트리를 사용하는 앙상블 모델\n",
        "#### 그래디언트 부스팅 트리(GradientBoostingClassifier)\n",
        "그래디언트 부스팅 트리는 여러 개의 결정 트리를 묶어 만드는 앙상블 모델\n",
        "\n",
        "랜덤 포레스트와 다르게 이전 트리의 오차를 보완하는 방식으로 순차적으로 트리를 만든다\n",
        "- 1 ~ 5 정도의 깊지 않은 트리를 사용하므로 메모리도 적게 사용하고 예측도 빠름\n",
        "- 정확도도 준수하고, 특히 예측 속도가 빠르다는 점에서 데이터 경진 대회에서 많은 우승을 했던 모델\n",
        "- 훈련 시간의 속도가 좀 오래 걸리고, 트리 기반 모델의 특성으로 인해서 희소한 고차원 데이터에 대해서는 잘 동작하지 않는다는 단점\n",
        "#### 보팅(Voting)\n",
        "투표를 통해 결과를 도출\n",
        "- 소프트보팅 _ 최종 결과물이 나올 확률값을 다 더해서 최종 결과물에 대한 각각의 확률을 구한 뒤 최종값을 도출\n",
        "- 하드보팅 _ (투표용지를 하나씩 발급하는 방식) 최종 투표의 결과를 더한 뒤 최종값 도출"
      ],
      "id": "8e6fe94e"
    }
  ],
  "metadata": {
    "accelerator": "GPU",
    "colab": {
      "machine_shape": "hm",
      "name": "[GD-04]TFIDF_vectorization_2.ipynb",
      "provenance": [],
      "collapsed_sections": [
        "9941b46f",
        "f3a255f5",
        "38081744",
        "8e6fe94e"
      ]
    },
    "kernelspec": {
      "display_name": "Python 3 (ipykernel)",
      "language": "python",
      "name": "python3"
    },
    "language_info": {
      "codemirror_mode": {
        "name": "ipython",
        "version": 3
      },
      "file_extension": ".py",
      "mimetype": "text/x-python",
      "name": "python",
      "nbconvert_exporter": "python",
      "pygments_lexer": "ipython3",
      "version": "3.9.7"
    }
  },
  "nbformat": 4,
  "nbformat_minor": 5
}